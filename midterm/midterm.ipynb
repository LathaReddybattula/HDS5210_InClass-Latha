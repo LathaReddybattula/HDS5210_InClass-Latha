{
  "cells": [
    {
      "cell_type": "markdown",
      "metadata": {
        "id": "view-in-github",
        "colab_type": "text"
      },
      "source": [
        "<a href=\"https://colab.research.google.com/github/LathaReddybattula/HDS5210_InClass-Latha/blob/master/midterm/midterm.ipynb\" target=\"_parent\"><img src=\"https://colab.research.google.com/assets/colab-badge.svg\" alt=\"Open In Colab\"/></a>"
      ]
    },
    {
      "cell_type": "markdown",
      "metadata": {
        "id": "KEM810iEqPbQ"
      },
      "source": [
        "### Mid-term for HDS5210\n",
        "\n",
        "Your supervisor is concerned about 4-year survival risks for COPD. She has asked for you to do some analysis using a new metric, BODE. BODE is an improvement on a previous metric and promises to provide insight on survival risks.\n",
        "\n",
        "BODE is defined here. https://www.mdcalc.com/calc/3916/bode-index-copd-survival#evidence\n",
        "\n",
        "Your assignment is to create a BODE calculation, use it to calculate BODE scores and BODE survival rates for a group of patients. Then we want to evaluate the average BODE scores and BODE survival rates for each area hospital.\n",
        "\n",
        "Your patient input file will have the following columns:\n",
        "NAME,SSN,LANGUAGE,JOB,HEIGHT_M,WEIGHT_KG,fev_pct,dyspnea_description,distance_in_meters,hospital\n",
        "\n",
        "BODE calculations require a BMI value, so you will have to create a function for it.\n",
        "\n",
        "Your output should be in the form of two CSV files, patient_output.csv and hospital_output.csv.\n",
        "\n",
        "Patient_output will have the following columns:\n",
        "NAME,BODE_SCORE,BODE_RISK,HOSPITAL\n",
        "\n",
        "Hospital output will have the following columns:\n",
        "HOSPITAL_NAME, COPD_COUNT, PCT_OF_COPD_CASES_OVER_BEDS, AVG_SCORE, AVG_RISK\n",
        "\n",
        "Each function you create should have documentation and a suitable number of test cases. If the input data could be wrong, make sure to raise a Value Error.\n",
        "\n",
        "For this assignment, use the doctest, json, and csv libraries. Pandas is not allowed for this assignment."
      ]
    },
    {
      "cell_type": "code",
      "execution_count": 1,
      "metadata": {
        "id": "GonDBQK1qPbS"
      },
      "outputs": [],
      "source": [
        "import doctest\n",
        "import json\n",
        "import csv"
      ]
    },
    {
      "cell_type": "markdown",
      "metadata": {
        "id": "LqEV3nzNqPbT"
      },
      "source": [
        "### Step 1: Calculate BMI"
      ]
    },
    {
      "cell_type": "code",
      "execution_count": 34,
      "metadata": {
        "id": "7eKW7BZsqPbT",
        "outputId": "0664c7bf-ad62-4dd4-8810-06f1f1f06358",
        "colab": {
          "base_uri": "https://localhost:8080/"
        }
      },
      "outputs": [
        {
          "output_type": "stream",
          "name": "stderr",
          "text": [
            "\n",
            "PYDEV DEBUGGER WARNING:\n",
            "sys.settrace() should not be used when the debugger is being used.\n",
            "This may cause the debugger to stop working correctly.\n",
            "If this is needed, please check: \n",
            "http://pydev.blogspot.com/2007/06/why-cant-pydev-debugger-work-with.html\n",
            "to see how to restore the debug tracing back correctly.\n",
            "Call Location:\n",
            "  File \"/usr/lib/python3.10/doctest.py\", line 1501, in run\n",
            "    sys.settrace(save_trace)\n",
            "\n"
          ]
        }
      ],
      "source": [
        "def calculate_bmi(weight_kg, height_m):\n",
        "    \"\"\"\n",
        "    Calculate BMI using weight and height.\n",
        "\n",
        "    >>> calculate_bmi(70, 1.75)\n",
        "    22.86\n",
        "    >>> calculate_bmi(100, 1.50)\n",
        "    44.44\n",
        "    >>> calculate_bmi(0, 1.75)\n",
        "    Traceback (most recent call last):\n",
        "    ...\n",
        "    ValueError: Weight and height must be positive values.\n",
        "    >>> calculate_bmi(70, 0)\n",
        "    Traceback (most recent call last):\n",
        "    ...\n",
        "    ValueError: Weight and height must be positive values.\n",
        "    \"\"\"\n",
        "    if weight_kg <= 0 or height_m <= 0:\n",
        "        raise ValueError(\"Weight and height must be positive values.\")\n",
        "\n",
        "    return round(weight_kg / (height_m ** 2), 2)\n",
        "\n",
        "if __name__ == \"__main__\":\n",
        "    import doctest\n",
        "    doctest.testmod()\n"
      ]
    },
    {
      "cell_type": "markdown",
      "metadata": {
        "id": "P0iOS-B4qPbT"
      },
      "source": [
        "### Step 2: Calculate BODE Score"
      ]
    },
    {
      "cell_type": "code",
      "execution_count": 35,
      "metadata": {
        "id": "biTDyajeqPbT",
        "outputId": "f278fea5-834a-479f-84ae-38825457126c",
        "colab": {
          "base_uri": "https://localhost:8080/"
        }
      },
      "outputs": [
        {
          "output_type": "stream",
          "name": "stdout",
          "text": [
            "**********************************************************************\n",
            "File \"__main__\", line 9, in __main__.calculate_bode\n",
            "Failed example:\n",
            "    calculate_bode(40, \"Severe\", 200, 22)\n",
            "Expected:\n",
            "    9\n",
            "Got:\n",
            "    7\n",
            "**********************************************************************\n",
            "File \"__main__\", line 13, in __main__.calculate_bode\n",
            "Failed example:\n",
            "    calculate_bode(70, \"Mild\", 300, 20)\n",
            "Expected:\n",
            "    2\n",
            "Got:\n",
            "    3\n",
            "**********************************************************************\n",
            "1 items had failures:\n",
            "   2 of   6 in __main__.calculate_bode\n",
            "***Test Failed*** 2 failures.\n"
          ]
        }
      ],
      "source": [
        "def calculate_bode(fev_pct, dyspnea_description, distance_in_meters, bmi):\n",
        "    \"\"\"\n",
        "    Calculate BODE score based on FEV percentage, dyspnea description, walk distance, and BMI.\n",
        "\n",
        "    >>> calculate_bode(70, \"None\", 400, 23)\n",
        "    0\n",
        "    >>> calculate_bode(55, \"Moderate\", 300, 19)\n",
        "    5\n",
        "    >>> calculate_bode(40, \"Severe\", 200, 22)\n",
        "    9\n",
        "    >>> calculate_bode(30, \"Mild\", 100, 18)\n",
        "    8\n",
        "    >>> calculate_bode(70, \"Mild\", 300, 20)\n",
        "    2\n",
        "    >>> calculate_bode(30, \"Moderate\", 100, 22)\n",
        "    8\n",
        "    \"\"\"\n",
        "    # Scores for FEV1\n",
        "    if fev_pct >= 65:\n",
        "        fev_score = 0\n",
        "    elif 50 <= fev_pct < 65:\n",
        "        fev_score = 1\n",
        "    elif 36 <= fev_pct < 50:\n",
        "        fev_score = 2\n",
        "    else:\n",
        "        fev_score = 3\n",
        "\n",
        "    # Scores for dyspnea\n",
        "    dyspnea_map = {\n",
        "        \"None\": 0,\n",
        "        \"Mild\": 1,\n",
        "        \"Moderate\": 2,\n",
        "        \"Severe\": 3\n",
        "    }\n",
        "    dyspnea_score = dyspnea_map.get(dyspnea_description, 0)\n",
        "\n",
        "    # Scores for walk distance\n",
        "    if distance_in_meters >= 350:\n",
        "        walk_score = 0\n",
        "    elif 250 <= distance_in_meters < 350:\n",
        "        walk_score = 1\n",
        "    elif 150 <= distance_in_meters < 250:\n",
        "        walk_score = 2\n",
        "    else:\n",
        "        walk_score = 3\n",
        "\n",
        "    # Scores for BMI\n",
        "    bmi_score = 0 if bmi > 21 else 1\n",
        "\n",
        "    # Total BODE score\n",
        "    bode_score = fev_score + dyspnea_score + walk_score + bmi_score\n",
        "    return bode_score\n",
        "\n",
        "if __name__ == \"__main__\":\n",
        "    import doctest\n",
        "    doctest.testmod()"
      ]
    },
    {
      "cell_type": "markdown",
      "metadata": {
        "id": "oqeCXxhOqPbT"
      },
      "source": [
        "### Step 3: Calculate BODE Risk"
      ]
    },
    {
      "cell_type": "code",
      "execution_count": 5,
      "metadata": {
        "id": "j1VgW4u-qPbU"
      },
      "outputs": [],
      "source": [
        "def bode_survival_rate(bode_score):\n",
        "    \"\"\"\n",
        "    Map BODE score to 4-year survival risk.\n",
        "    \"\"\"\n",
        "    survival_rate_map = {\n",
        "        0: 80, 1: 80, 2: 80,\n",
        "        3: 67, 4: 67,\n",
        "        5: 57, 6: 57,\n",
        "        7: 35, 8: 35,\n",
        "        9: 18, 10: 18\n",
        "    }\n",
        "    return survival_rate_map.get(bode_score, \"Unknown\")"
      ]
    },
    {
      "cell_type": "markdown",
      "metadata": {
        "id": "h2GB659VqPbU"
      },
      "source": [
        "### Step 4: Load Hospital Data"
      ]
    },
    {
      "cell_type": "code",
      "execution_count": 36,
      "metadata": {
        "id": "uZOq8xsuqPbU",
        "outputId": "3be9f756-e215-42be-883c-515cb4ed2f70",
        "colab": {
          "base_uri": "https://localhost:8080/"
        }
      },
      "outputs": [
        {
          "output_type": "stream",
          "name": "stdout",
          "text": [
            "**********************************************************************\n",
            "File \"__main__\", line 9, in __main__.calculate_bode\n",
            "Failed example:\n",
            "    calculate_bode(40, \"Severe\", 200, 22)\n",
            "Expected:\n",
            "    9\n",
            "Got:\n",
            "    7\n",
            "**********************************************************************\n",
            "File \"__main__\", line 13, in __main__.calculate_bode\n",
            "Failed example:\n",
            "    calculate_bode(70, \"Mild\", 300, 20)\n",
            "Expected:\n",
            "    2\n",
            "Got:\n",
            "    3\n",
            "**********************************************************************\n",
            "File \"__main__\", line 8, in __main__.load_hospital_data\n",
            "Failed example:\n",
            "    load_hospital_data('sample_hospital_data.csv')\n",
            "Exception raised:\n",
            "    Traceback (most recent call last):\n",
            "      File \"<ipython-input-36-4dcfde90f092>\", line 17, in load_hospital_data\n",
            "        with open(filename, mode='r') as file:\n",
            "    FileNotFoundError: [Errno 2] No such file or directory: 'sample_hospital_data.csv'\n",
            "\n",
            "    During handling of the above exception, another exception occurred:\n",
            "\n",
            "    Traceback (most recent call last):\n",
            "      File \"/usr/lib/python3.10/doctest.py\", line 1350, in __run\n",
            "        exec(compile(example.source, filename, \"single\",\n",
            "      File \"<doctest __main__.load_hospital_data[0]>\", line 1, in <module>\n",
            "        load_hospital_data('sample_hospital_data.csv')\n",
            "      File \"<ipython-input-36-4dcfde90f092>\", line 30, in load_hospital_data\n",
            "        raise FileNotFoundError(f\"File {filename} not found.\")\n",
            "    FileNotFoundError: File sample_hospital_data.csv not found.\n",
            "**********************************************************************\n",
            "2 items had failures:\n",
            "   2 of   6 in __main__.calculate_bode\n",
            "   1 of   1 in __main__.load_hospital_data\n",
            "***Test Failed*** 3 failures.\n"
          ]
        }
      ],
      "source": [
        "import csv\n",
        "\n",
        "def load_hospital_data(filename='hospital_data.csv'):\n",
        "    \"\"\"\n",
        "    Load hospital data from a CSV file and return it as a list of dictionaries.\n",
        "    Each dictionary represents a hospital with its name and number of beds.\n",
        "\n",
        "    >>> load_hospital_data('sample_hospital_data.csv')\n",
        "    [{'HOSPITAL_NAME': 'Hospital A', 'BEDS': 100}, {'HOSPITAL_NAME': 'Hospital B', 'BEDS': 150}]\n",
        "\n",
        "    Raises:\n",
        "        FileNotFoundError: If the file is not found.\n",
        "        ValueError: If required columns are missing or data is invalid.\n",
        "    \"\"\"\n",
        "    hospitals = []\n",
        "    try:\n",
        "        with open(filename, mode='r') as file:\n",
        "            reader = csv.DictReader(file)\n",
        "            for row in reader:\n",
        "                try:\n",
        "                    hospital_name = row['HOSPITAL_NAME']\n",
        "                    beds = int(row['BEDS'])\n",
        "                    hospitals.append({\n",
        "                        'HOSPITAL_NAME': hospital_name,\n",
        "                        'BEDS': beds\n",
        "                    })\n",
        "                except ValueError:\n",
        "                    raise ValueError(f\"Invalid data format for beds in row: {row}\")\n",
        "    except FileNotFoundError:\n",
        "        raise FileNotFoundError(f\"File {filename} not found.\")\n",
        "    except KeyError as e:\n",
        "        raise ValueError(f\"Missing required column in data: {e}\")\n",
        "\n",
        "    return hospitals\n",
        "\n",
        "def calculate_bode_risk(bode_score):\n",
        "    \"\"\"\n",
        "    Calculate the risk percentage based on the BODE score.\n",
        "\n",
        "    >>> calculate_bode_risk(0)\n",
        "    5\n",
        "    >>> calculate_bode_risk(5)\n",
        "    35\n",
        "    >>> calculate_bode_risk(10)\n",
        "    90\n",
        "    >>> calculate_bode_risk(-1)\n",
        "    Traceback (most recent call last):\n",
        "    ...\n",
        "    ValueError: BODE score must be between 0 and 10.\n",
        "    \"\"\"\n",
        "    if not (0 <= bode_score <= 10):\n",
        "        raise ValueError(\"BODE score must be between 0 and 10.\")\n",
        "\n",
        "    # Risk percentage based on BODE score ranges (example calculation logic)\n",
        "    if bode_score == 0:\n",
        "        return 5\n",
        "    elif bode_score <= 3:\n",
        "        return 10\n",
        "    elif bode_score <= 6:\n",
        "        return 35\n",
        "    elif bode_score <= 9:\n",
        "        return 65\n",
        "    else:\n",
        "        return 90\n",
        "\n",
        "if __name__ == \"__main__\":\n",
        "    import doctest\n",
        "    doctest.testmod()"
      ]
    },
    {
      "cell_type": "markdown",
      "metadata": {
        "id": "NR-E2tToqPbU"
      },
      "source": [
        "### Step 5: Main business logic\n",
        "\n",
        "Call BODE Score, BODE Risk functions for each patient.\n",
        "\n",
        "For each hospital, calculate Avg BODE score and Avg BODE risk and count the number of cases for each hospital."
      ]
    },
    {
      "cell_type": "code",
      "execution_count": 39,
      "metadata": {
        "id": "stMLOd_cqPbU",
        "outputId": "8eabe449-77fa-46ab-9151-492a16512274",
        "colab": {
          "base_uri": "https://localhost:8080/"
        }
      },
      "outputs": [
        {
          "output_type": "stream",
          "name": "stdout",
          "text": [
            "CSV Headers: ['NAME', 'SSN', 'LANGUAGE', 'JOB', 'HEIGHT_M', 'WEIGHT_KG', 'fev_pct', 'dyspnea_description', 'distance_in_meters', 'hospital']\n",
            "Patient Results:\n",
            "['Vanessa Roberts', \"ST.LUKE'S\", 46.0, 4.6]\n",
            "['Christopher Fox', 'SAINT LOUIS UNIVERSITY', 42.365, 4.2365]\n",
            "['Benjamin Johnston', 'BJC', 48.26, 4.826]\n",
            "['Christopher Hernandez', 'MISSOURI BAPTIST', 41.61, 4.161]\n",
            "['Valerie Burch', 'BJC WEST COUNTY', 43.144999999999996, 4.3145]\n",
            "\n",
            "Hospital Results:\n",
            "[\"ST.LUKE'S\", 49.28707317073169, 4.92870731707317, 164]\n",
            "['SAINT LOUIS UNIVERSITY', 49.36060975609756, 4.936060975609758, 164]\n",
            "['BJC', 49.58717391304347, 4.95871739130435, 184]\n",
            "['MISSOURI BAPTIST', 49.856801242236, 4.985680124223601, 161]\n",
            "['BJC WEST COUNTY', 49.26999999999999, 4.9270000000000005, 171]\n"
          ]
        }
      ],
      "source": [
        "patient_csv = \"patient.csv\"\n",
        "hospital_json = \"hospitals.json\"\n",
        "\n",
        "patient_output_file = \"patient_output.csv\"\n",
        "hospital_output_file = \"hospital_output.csv\"\n",
        "\n",
        "###\n",
        "import csv\n",
        "import json\n",
        "# Step 1: Define file paths\n",
        "patient_csv = \"/content/patient.csv\"\n",
        "hospital_json = \"/content/hospitals (1).json\"  # Adjusted path\n",
        "# Step 2: Define a function to calculate the BODE Score and Risk\n",
        "def calculate_bode_score(patient):\n",
        "    \"\"\"\n",
        "    Calculate BODE score and risk based on patient data.\n",
        "    You should implement the correct BODE score calculation here.\n",
        "    \"\"\"\n",
        "    bode_score = (patient['HEIGHT_M'] + patient['WEIGHT_KG']) / 2  # Replace this with the real calculation\n",
        "    bode_risk = bode_score / 10  # This should map to actual survival risk\n",
        "    return bode_score, bode_risk\n",
        "# Step 3: Load the patient data from CSV\n",
        "def load_patient_data(filename):\n",
        "    patient_data = []\n",
        "    with open(filename, mode='r') as file:\n",
        "        csv_reader = csv.DictReader(file)\n",
        "\n",
        "        # Print the headers (column names)\n",
        "        headers = csv_reader.fieldnames\n",
        "        print(\"CSV Headers:\", headers)\n",
        "\n",
        "        for row in csv_reader:\n",
        "            row['HEIGHT_M'] = float(row['HEIGHT_M'])\n",
        "            row['WEIGHT_KG'] = float(row['WEIGHT_KG'])\n",
        "            patient_data.append(row)\n",
        "\n",
        "    return patient_data\n",
        "# Step 4: Load the hospital data from JSON\n",
        "def load_hospital_data(filename):\n",
        "    with open(filename, mode='r') as file:\n",
        "        hospital_data = json.load(file)\n",
        "    return hospital_data\n",
        "# Step 5: Process the patients and calculate BODE Scores and Risks\n",
        "def process_patients_and_hospitals(patient_data, hospital_data):\n",
        "    patient_results = []\n",
        "    hospital_aggregates = {}\n",
        "  # Step 6: Process each patient\n",
        "    for patient in patient_data:\n",
        "        # Calculate the BODE score and risk for each patient\n",
        "        bode_score, bode_risk = calculate_bode_score(patient)\n",
        "        patient_id = patient['NAME']\n",
        "        hospital_id = patient['hospital']\n",
        "        # Store patient result\n",
        "        patient_results.append([patient_id, hospital_id, bode_score, bode_risk])\n",
        "        # Aggregate data by hospital\n",
        "        if hospital_id not in hospital_aggregates:\n",
        "            hospital_aggregates[hospital_id] = {\n",
        "                'total_bode_score': 0,\n",
        "                'total_bode_risk': 0,\n",
        "                'num_patients': 0\n",
        "            }\n",
        "        hospital_aggregates[hospital_id]['total_bode_score'] += bode_score\n",
        "        hospital_aggregates[hospital_id]['total_bode_risk'] += bode_risk\n",
        "        hospital_aggregates[hospital_id]['num_patients'] += 1\n",
        "\n",
        "    # Step 7: Calculate the averages for each hospital\n",
        "    hospital_output_list = []\n",
        "    for hospital_id, aggregates in hospital_aggregates.items():\n",
        "        avg_bode_score = aggregates['total_bode_score'] / aggregates['num_patients']\n",
        "        avg_bode_risk = aggregates['total_bode_risk'] / aggregates['num_patients']\n",
        "        hospital_output_list.append([hospital_id, avg_bode_score, avg_bode_risk, aggregates['num_patients']])\n",
        "\n",
        "    return patient_results, hospital_output_list\n",
        "\n",
        "# Step 8: Write the results to CSV files\n",
        "def write_csv(filename, data, headers=None):\n",
        "    with open(filename, 'w', newline='') as csvfile:\n",
        "        writer = csv.writer(csvfile)\n",
        "        if headers:\n",
        "            writer.writerow(headers)\n",
        "        writer.writerows(data)\n",
        "\n",
        "# Step 9: Load data, process it, and save the results\n",
        "patient_data = load_patient_data(patient_csv)\n",
        "hospital_data = load_hospital_data(hospital_json)\n",
        "\n",
        "# Process the data and get the results\n",
        "patient_results, hospital_output_list = process_patients_and_hospitals(patient_data, hospital_data)\n",
        "\n",
        "# Write the patient and hospital results to their respective CSV files\n",
        "write_csv(\"patient_output.csv\", patient_results, headers=[\"PATIENT_NAME\", \"HOSPITAL\", \"BODE_SCORE\", \"BODE_RISK\"])\n",
        "write_csv(\"hospital_output.csv\", hospital_output_list, headers=[\"HOSPITAL\", \"AVG_BODE_SCORE\", \"AVG_BODE_RISK\", \"NUM_PATIENTS\"])\n",
        "\n",
        "# Output for verification (first few lines)\n",
        "print(\"Patient Results:\")\n",
        "for row in patient_results[:5]:\n",
        "    print(row)\n",
        "\n",
        "print(\"\\nHospital Results:\")\n",
        "for row in hospital_output_list[:5]:\n",
        "    print(row)\n",
        "###\n",
        "patient_results = []\n",
        "hospital_output_list = []\n",
        "\n",
        "#Write Patient_output.csv\n",
        "with open(patient_output_file, 'w', newline='') as csvfile:\n",
        "    writer = csv.writer(csvfile)\n",
        "    writer.writerows(patient_results)\n",
        "#Write Hospital_output.csv\n",
        "with open(hospital_output_file, 'w', newline='') as csvfile:\n",
        "    writer = csv.writer(csvfile)\n",
        "    writer.writerows(hospital_output_list)"
      ]
    }
  ],
  "metadata": {
    "language_info": {
      "name": "python"
    },
    "colab": {
      "provenance": [],
      "include_colab_link": true
    },
    "kernelspec": {
      "name": "python3",
      "display_name": "Python 3"
    }
  },
  "nbformat": 4,
  "nbformat_minor": 0
}