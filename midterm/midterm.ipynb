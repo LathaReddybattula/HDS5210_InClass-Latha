{
  "cells": [
    {
      "cell_type": "markdown",
      "metadata": {
        "id": "view-in-github",
        "colab_type": "text"
      },
      "source": [
        "<a href=\"https://colab.research.google.com/github/LathaReddybattula/HDS5210_InClass-Latha/blob/master/midterm/midterm.ipynb\" target=\"_parent\"><img src=\"https://colab.research.google.com/assets/colab-badge.svg\" alt=\"Open In Colab\"/></a>"
      ]
    },
    {
      "cell_type": "markdown",
      "metadata": {
        "id": "qSTtTFF3_S0u"
      },
      "source": [
        "### Mid-term for HDS5210\n",
        "\n",
        "Your supervisor is concerned about 4-year survival risks for COPD. She has asked for you to do some analysis using a new metric, BODE. BODE is an improvement on a previous metric and promises to provide insight on survival risks.\n",
        "\n",
        "BODE is defined here. https://www.mdcalc.com/calc/3916/bode-index-copd-survival#evidence\n",
        "\n",
        "Your assignment is to create a BODE calculation, use it to calculate BODE scores and BODE survival rates for a group of patients. Then we want to evaluate the average BODE scores and BODE survival rates for each area hospital.\n",
        "\n",
        "Your patient input file will have the following columns:\n",
        "NAME,SSN,LANGUAGE,JOB,HEIGHT_M,WEIGHT_KG,fev_pct,dyspnea_description,distance_in_meters,hospital\n",
        "\n",
        "BODE calculations require a BMI value, so you will have to create a function for it.\n",
        "\n",
        "Your output should be in the form of two CSV files, patient_output.csv and hospital_output.csv.\n",
        "\n",
        "Patient_output will have the following columns:\n",
        "NAME,BODE_SCORE,BODE_RISK,HOSPITAL\n",
        "\n",
        "Hospital output will have the following columns:\n",
        "HOSPITAL_NAME, COPD_COUNT, PCT_OF_COPD_CASES_OVER_BEDS, AVG_SCORE, AVG_RISK\n",
        "\n",
        "Each function you create should have documentation and a suitable number of test cases. If the input data could be wrong, make sure to raise a Value Error.\n",
        "\n",
        "For this assignment, use the doctest, json, and csv libraries. Pandas is not allowed for this assignment."
      ]
    },
    {
      "cell_type": "code",
      "execution_count": 50,
      "metadata": {
        "id": "NrFja5Hf_S0x"
      },
      "outputs": [],
      "source": [
        "import doctest\n",
        "import json\n",
        "import csv"
      ]
    },
    {
      "cell_type": "markdown",
      "metadata": {
        "id": "1eSQLtri_S0y"
      },
      "source": [
        "### Step 1: Calculate BMI"
      ]
    },
    {
      "cell_type": "code",
      "execution_count": 51,
      "metadata": {
        "id": "p8YiFGgj_S0y",
        "outputId": "5649d77d-6da3-4127-cbe5-62b0218e1928",
        "colab": {
          "base_uri": "https://localhost:8080/"
        }
      },
      "outputs": [
        {
          "output_type": "stream",
          "name": "stdout",
          "text": [
            "22.86\n",
            "19.53\n",
            "Weight and height must be positive numbers.\n",
            "Weight and height must be positive numbers.\n"
          ]
        }
      ],
      "source": [
        "def calculate_bmi(weight_kg, height_m):\n",
        "    \"\"\"\n",
        "    Calculate BMI (Body Mass Index) using weight in kilograms and height in meters.\n",
        "\n",
        "    >>> calculate_bmi(70, 1.75)\n",
        "    22.86\n",
        "    >>> calculate_bmi(50, 1.6)\n",
        "    19.53\n",
        "    >>> calculate_bmi(0, 1.75)\n",
        "    Traceback (most recent call last):\n",
        "    ...\n",
        "    ValueError: Weight and height must be positive numbers.\n",
        "    >>> calculate_bmi(70, -1.75)\n",
        "    Traceback (most recent call last):\n",
        "    ...\n",
        "    ValueError: Weight and height must be positive numbers.\n",
        "\n",
        "    :param weight_kg: Weight in kilograms\n",
        "    :param height_m: Height in meters\n",
        "    :return: Calculated BMI value (float)\n",
        "    :raises ValueError: If weight or height are non-positive\n",
        "    \"\"\"\n",
        "    if weight_kg <= 0 or height_m <= 0:\n",
        "        raise ValueError(\"Weight and height must be positive numbers.\")\n",
        "\n",
        "    bmi = weight_kg / (height_m ** 2)\n",
        "    return round(bmi, 2)\n",
        "\n",
        "# Test cases\n",
        "if __name__ == \"__main__\":\n",
        "    # Valid cases\n",
        "    print(calculate_bmi(70, 1.75))  # Expected output: 22.86\n",
        "    print(calculate_bmi(50, 1.6))   # Expected output: 19.53\n",
        "\n",
        "    # Invalid cases\n",
        "    for test in [(70, -1.75), (0, 1.75)]:\n",
        "        try:\n",
        "            print(calculate_bmi(*test))\n",
        "        except ValueError as e:\n",
        "            print(e)"
      ]
    },
    {
      "cell_type": "markdown",
      "metadata": {
        "id": "r4TRMZ-o_S0z"
      },
      "source": [
        "### Step 2: Calculate BODE Score"
      ]
    },
    {
      "cell_type": "code",
      "execution_count": 52,
      "metadata": {
        "id": "c48JzeYD_S0z",
        "outputId": "a7cf001f-86f9-4557-fd31-5e7e4b8b5416",
        "colab": {
          "base_uri": "https://localhost:8080/"
        }
      },
      "outputs": [
        {
          "output_type": "stream",
          "name": "stdout",
          "text": [
            "0\n",
            "7\n",
            "10\n",
            "10\n",
            "3\n",
            "Invalid dyspnea description provided.\n"
          ]
        }
      ],
      "source": [
        "def bode_score(bmi, fev_pct, dyspnea_description, distance_in_meters):\n",
        "    \"\"\"\n",
        "    Calculate BODE score for a patient based on BMI, FEV1%, dyspnea, and 6-minute walk distance.\n",
        "\n",
        "    >>> bode_score(22, 70, \"Only breathless with strenuous exercise\", 400)\n",
        "    0\n",
        "    >>> bode_score(20, 45, \"Walks slower, stops for breath\", 200)\n",
        "    6\n",
        "    >>> bode_score(18, 30, \"Stops for breath after 100 yards or a few minutes on level ground\", 100)\n",
        "    9\n",
        "    >>> bode_score(21, 36, \"Too breathless to leave house or while dressing\", 140)\n",
        "    10\n",
        "    >>> bode_score(25, 50, \"Breathless when hurrying or walking uphill\", 320)\n",
        "    2\n",
        "    >>> bode_score(21, 50, \"Invalid description\", 320)\n",
        "    Traceback (most recent call last):\n",
        "    ...\n",
        "    ValueError: Invalid dyspnea description provided.\n",
        "\n",
        "    :param bmi: Body Mass Index (float)\n",
        "    :param fev_pct: FEV1 percentage (float)\n",
        "    :param dyspnea_description: A description of dyspnea (breathlessness level, string)\n",
        "    :param distance_in_meters: Distance walked in meters during a 6-minute walk test\n",
        "    :return: BODE score (int)\n",
        "    :raises ValueError: If input data is invalid (e.g., incorrect dyspnea description or unreasonable values)\n",
        "    \"\"\"\n",
        "\n",
        "    # Validate and calculate BMI score\n",
        "    bmi_score = 0 if bmi > 21 else 1\n",
        "\n",
        "    # Validate and calculate FEV1 score\n",
        "    if fev_pct >= 65:\n",
        "        fev_score = 0\n",
        "    elif fev_pct >= 50:\n",
        "        fev_score = 1\n",
        "    elif fev_pct >= 36:\n",
        "        fev_score = 2\n",
        "    else:\n",
        "        fev_score = 3  # FEV1 < 36\n",
        "\n",
        "    # Validate and map dyspnea description to score\n",
        "    dyspnea_mapping = {\n",
        "        \"Only breathless with strenuous exercise\": 0,\n",
        "        \"Breathless when hurrying or walking uphill\": 1,\n",
        "        \"Walks slower, stops for breath\": 2,\n",
        "        \"Stops for breath after 100 yards or a few minutes on level ground\": 3,\n",
        "        \"Too breathless to leave house or while dressing\": 4,\n",
        "    }\n",
        "\n",
        "    if dyspnea_description not in dyspnea_mapping:\n",
        "        raise ValueError(\"Invalid dyspnea description provided.\")\n",
        "\n",
        "    dyspnea_score = dyspnea_mapping[dyspnea_description]\n",
        "\n",
        "    # Validate and calculate distance score\n",
        "    if distance_in_meters >= 350:\n",
        "        distance_score = 0\n",
        "    elif distance_in_meters >= 250:\n",
        "        distance_score = 1\n",
        "    elif distance_in_meters >= 150:\n",
        "        distance_score = 2\n",
        "    else:\n",
        "        distance_score = 3  # Distance < 150\n",
        "\n",
        "    # Total BODE score\n",
        "    return bmi_score + fev_score + dyspnea_score + distance_score\n",
        "\n",
        "\n",
        "# Test Cases\n",
        "if __name__ == \"__main__\":\n",
        "    # Valid cases\n",
        "    print(bode_score(22, 70, \"Only breathless with strenuous exercise\", 400))\n",
        "    print(bode_score(20, 45, \"Walks slower, stops for breath\", 200))\n",
        "    print(bode_score(18, 30, \"Stops for breath after 100 yards or a few minutes on level ground\", 100))\n",
        "    print(bode_score(21, 36, \"Too breathless to leave house or while dressing\", 140))\n",
        "    print(bode_score(25, 50, \"Breathless when hurrying or walking uphill\", 320))\n",
        "\n",
        "    # Invalid case\n",
        "    try:\n",
        "        print(bode_score(21, 50, \"Invalid description\", 320))\n",
        "    except ValueError as e:\n",
        "        print(e)"
      ]
    },
    {
      "cell_type": "markdown",
      "metadata": {
        "id": "c1nESY0Q_S0z"
      },
      "source": [
        "### Step 3: Calculate BODE Risk"
      ]
    },
    {
      "cell_type": "code",
      "execution_count": 53,
      "metadata": {
        "id": "ck09fpcH_S0z",
        "outputId": "0b842d3b-3df3-4cc1-c1f1-cb1d77983d5a",
        "colab": {
          "base_uri": "https://localhost:8080/"
        }
      },
      "outputs": [
        {
          "output_type": "stream",
          "name": "stdout",
          "text": [
            "80\n",
            "67\n",
            "57\n",
            "18\n"
          ]
        }
      ],
      "source": [
        "def bode_risk(score):\n",
        "    \"\"\"\n",
        "    Map a BODE score to a 4-year survival risk percentage based on predefined ranges.\n",
        "\n",
        "    >>> bode_risk(0)\n",
        "    80\n",
        "    >>> bode_risk(4)\n",
        "    67\n",
        "    >>> bode_risk(6)\n",
        "    57\n",
        "    >>> bode_risk(9)\n",
        "    18\n",
        "    >>> bode_risk(11)\n",
        "    Traceback (most recent call last):\n",
        "    ...\n",
        "    ValueError: BODE score must be between 0 and 10.\n",
        "\n",
        "    :param score: BODE score (int), must be between 0 and 10 inclusive\n",
        "    :return: 4-year survival risk percentage (int)\n",
        "    :raises ValueError: If the score is outside the valid range (0–10)\n",
        "    \"\"\"\n",
        "    if not (0 <= score <= 10):\n",
        "        raise ValueError(\"BODE score must be between 0 and 10.\")\n",
        "\n",
        "    # Map score to risk percentage\n",
        "    if 0 <= score <= 2:\n",
        "        return 80\n",
        "    elif 3 <= score <= 4:\n",
        "        return 67\n",
        "    elif 5 <= score <= 6:\n",
        "        return 57\n",
        "    elif 7 <= score <= 10:\n",
        "        return 18\n",
        "\n",
        "# Test Cases\n",
        "print(bode_risk(0))  # Expected: 80\n",
        "print(bode_risk(4))  # Expected: 67\n",
        "print(bode_risk(6))  # Expected: 57\n",
        "print(bode_risk(9))  # Expected: 18\n",
        "\n",
        "# Test invalid case"
      ]
    },
    {
      "cell_type": "markdown",
      "metadata": {
        "id": "FHv7B0oG_S0z"
      },
      "source": [
        "### Step 4: Load Hospital Data"
      ]
    },
    {
      "cell_type": "code",
      "execution_count": 65,
      "metadata": {
        "id": "pnAcSnsc_S00",
        "outputId": "64bfb128-dbe9-4729-bf4a-1bc8ed781654",
        "colab": {
          "base_uri": "https://localhost:8080/"
        }
      },
      "outputs": [
        {
          "output_type": "stream",
          "name": "stdout",
          "text": [
            "Loaded 1000 patients from '/content/patient.csv'.\n",
            "Loaded 3 hospitals from '/content/hospitals (1).json'.\n"
          ]
        }
      ],
      "source": [
        "import csv\n",
        "import json\n",
        "\n",
        "# Load patient data\n",
        "def load_patient_data(file_path):\n",
        "    \"\"\"\n",
        "    Load patient data from a CSV file.\n",
        "\n",
        "    :param file_path: Path to the CSV file\n",
        "    :return: List of dictionaries containing patient data\n",
        "    :raises ValueError: If required columns are missing or there are errors in the data\n",
        "    :raises FileNotFoundError: If the file cannot be found\n",
        "\n",
        "    Example:\n",
        "    >>> load_patient_data('patients.csv')  # Load patient data from a CSV file\n",
        "    [{'NAME': 'John Doe', 'HEIGHT_M': 1.75, 'WEIGHT_KG': 70.0, ...}]\n",
        "    \"\"\"\n",
        "    required_columns = {'NAME', 'HEIGHT_M', 'WEIGHT_KG', 'fev_pct', 'dyspnea_description', 'distance_in_meters', 'hospital'}\n",
        "    patient_data = []\n",
        "\n",
        "    try:\n",
        "        with open(file_path, mode='r') as file:\n",
        "            reader = csv.DictReader(file)\n",
        "\n",
        "            # Check for missing columns\n",
        "            missing_cols = required_columns - set(reader.fieldnames)\n",
        "            if missing_cols:\n",
        "                raise ValueError(f\"Missing columns: {missing_cols}\")\n",
        "\n",
        "            for row in reader:\n",
        "                try:\n",
        "                    patient_data.append({\n",
        "                        'NAME': row['NAME'],\n",
        "                        'HEIGHT_M': float(row['HEIGHT_M']),\n",
        "                        'WEIGHT_KG': float(row['WEIGHT_KG']),\n",
        "                        'fev_pct': float(row['fev_pct']),\n",
        "                        'dyspnea_description': row['dyspnea_description'],\n",
        "                        'distance_in_meters': float(row['distance_in_meters']),\n",
        "                        'hospital': row['hospital']\n",
        "                    })\n",
        "                except (ValueError, KeyError) as e:\n",
        "                    name = row.get('NAME', 'Unknown')\n",
        "                    print(f\"Skipping {name} due to error: {e}\")\n",
        "    except FileNotFoundError:\n",
        "        raise FileNotFoundError(f\"The file at {file_path} could not be found.\")\n",
        "    except IOError as e:\n",
        "        raise IOError(f\"Error reading file {file_path}: {e}\")\n",
        "\n",
        "    return patient_data\n",
        "\n",
        "# Load patient data\n",
        "try:\n",
        "    patients = load_patient_data('/content/patient.csv')\n",
        "    print(f\"Loaded {len(patients)} patients from '/content/patient.csv'.\")\n",
        "except ValueError as e:\n",
        "    print(f\"Error loading patient data: {e}\")\n",
        "except FileNotFoundError as e:\n",
        "    print(f\"File error: {e}\")\n",
        "\n",
        "\n",
        "# Load hospital data\n",
        "def load_hospital_info(json_path):\n",
        "    \"\"\"\n",
        "    Load hospital information from a JSON file.\n",
        "\n",
        "    :param json_path: Path to the JSON file\n",
        "    :return: Dictionary containing hospital information\n",
        "    :raises ValueError: If the JSON is malformed\n",
        "    :raises FileNotFoundError: If the file cannot be found\n",
        "\n",
        "    Example:\n",
        "    >>> load_hospital_info('hospitals.json')  # Load hospital data\n",
        "    {'Hospital A': {'beds': 100, 'location': 'City A'}, ...}\n",
        "    \"\"\"\n",
        "    try:\n",
        "        with open(json_path, 'r') as json_file:\n",
        "            return json.load(json_file)\n",
        "    except FileNotFoundError:\n",
        "        raise FileNotFoundError(f\"The file at {json_path} could not be found.\")\n",
        "    except json.JSONDecodeError as e:\n",
        "        raise ValueError(f\"Error decoding JSON: {e}\")\n",
        "    except IOError as e:\n",
        "        raise IOError(f\"Error reading file {json_path}: {e}\")\n",
        "\n",
        "# Load hospital data\n",
        "try:\n",
        "    hospitals = load_hospital_info('/content/hospitals (1).json')\n",
        "    print(f\"Loaded {len(hospitals)} hospitals from '/content/hospitals (1).json'.\")\n",
        "except ValueError as e:\n",
        "    print(f\"Error loading hospital data: {e}\")\n",
        "except FileNotFoundError as e:\n",
        "    print(f\"File error: {e}\")"
      ]
    },
    {
      "cell_type": "markdown",
      "metadata": {
        "id": "xSka8_HS_S00"
      },
      "source": [
        "### Step 5: Main business logic\n",
        "\n",
        "Call BODE Score, BODE Risk functions for each patient.\n",
        "\n",
        "For each hospital, calculate Avg BODE score and Avg BODE risk and count the number of cases for each hospital."
      ]
    },
    {
      "cell_type": "code",
      "execution_count": 63,
      "metadata": {
        "id": "BSxBLBqr_S00",
        "outputId": "cb8cbd14-6e10-41a9-bd6b-2c1d58df710f",
        "colab": {
          "base_uri": "https://localhost:8080/"
        }
      },
      "outputs": [
        {
          "output_type": "stream",
          "name": "stdout",
          "text": [
            "CSV Headers: ['NAME', 'SSN', 'LANGUAGE', 'JOB', 'HEIGHT_M', 'WEIGHT_KG', 'fev_pct', 'dyspnea_description', 'distance_in_meters', 'hospital']\n",
            "Patient Results:\n",
            "['Vanessa Roberts', \"ST.LUKE'S\", 46.0, 4.6]\n",
            "['Christopher Fox', 'SAINT LOUIS UNIVERSITY', 42.365, 4.2365]\n",
            "['Benjamin Johnston', 'BJC', 48.26, 4.826]\n",
            "['Christopher Hernandez', 'MISSOURI BAPTIST', 41.61, 4.161]\n",
            "['Valerie Burch', 'BJC WEST COUNTY', 43.144999999999996, 4.3145]\n",
            "\n",
            "Hospital Results:\n",
            "[\"ST.LUKE'S\", 49.28707317073169, 4.92870731707317, 164]\n",
            "['SAINT LOUIS UNIVERSITY', 49.36060975609756, 4.936060975609758, 164]\n",
            "['BJC', 49.58717391304347, 4.95871739130435, 184]\n",
            "['MISSOURI BAPTIST', 49.856801242236, 4.985680124223601, 161]\n",
            "['BJC WEST COUNTY', 49.26999999999999, 4.9270000000000005, 171]\n"
          ]
        }
      ],
      "source": [
        "patient_csv = \"patient.csv\"\n",
        "hospital_json = \"hospitals.json\"\n",
        "\n",
        "patient_output_file = \"patient_output.csv\"\n",
        "hospital_output_file = \"hospital_output.csv\"\n",
        "\n",
        "###\n",
        "import csv\n",
        "import json\n",
        "# Step 1: Define file paths\n",
        "patient_csv = \"/content/patient.csv\"\n",
        "hospital_json = \"/content/hospitals (1).json\"  # Adjusted path\n",
        "# Step 2: Define a function to calculate the BODE Score and Risk\n",
        "def calculate_bode_score(patient):\n",
        "    \"\"\"\n",
        "    Calculate BODE score and risk based on patient data.\n",
        "    You should implement the correct BODE score calculation here.\n",
        "    \"\"\"\n",
        "    bode_score = (patient['HEIGHT_M'] + patient['WEIGHT_KG']) / 2  # Replace this with the real calculation\n",
        "    bode_risk = bode_score / 10  # This should map to actual survival risk\n",
        "    return bode_score, bode_risk\n",
        "# Step 3: Load the patient data from CSV\n",
        "def load_patient_data(filename):\n",
        "    patient_data = []\n",
        "    with open(filename, mode='r') as file:\n",
        "        csv_reader = csv.DictReader(file)\n",
        "\n",
        "        # Print the headers (column names)\n",
        "        headers = csv_reader.fieldnames\n",
        "        print(\"CSV Headers:\", headers)\n",
        "\n",
        "        for row in csv_reader:\n",
        "            row['HEIGHT_M'] = float(row['HEIGHT_M'])\n",
        "            row['WEIGHT_KG'] = float(row['WEIGHT_KG'])\n",
        "            patient_data.append(row)\n",
        "\n",
        "    return patient_data\n",
        "# Step 4: Load the hospital data from JSON\n",
        "def load_hospital_data(filename):\n",
        "    with open(filename, mode='r') as file:\n",
        "        hospital_data = json.load(file)\n",
        "    return hospital_data\n",
        "# Step 5: Process the patients and calculate BODE Scores and Risks\n",
        "def process_patients_and_hospitals(patient_data, hospital_data):\n",
        "    patient_results = []\n",
        "    hospital_aggregates = {}\n",
        "  # Step 6: Process each patient\n",
        "    for patient in patient_data:\n",
        "        # Calculate the BODE score and risk for each patient\n",
        "        bode_score, bode_risk = calculate_bode_score(patient)\n",
        "        patient_id = patient['NAME']\n",
        "        hospital_id = patient['hospital']\n",
        "        # Store patient result\n",
        "        patient_results.append([patient_id, hospital_id, bode_score, bode_risk])\n",
        "        # Aggregate data by hospital\n",
        "        if hospital_id not in hospital_aggregates:\n",
        "            hospital_aggregates[hospital_id] = {\n",
        "                'total_bode_score': 0,\n",
        "                'total_bode_risk': 0,\n",
        "                'num_patients': 0\n",
        "            }\n",
        "        hospital_aggregates[hospital_id]['total_bode_score'] += bode_score\n",
        "        hospital_aggregates[hospital_id]['total_bode_risk'] += bode_risk\n",
        "        hospital_aggregates[hospital_id]['num_patients'] += 1\n",
        "\n",
        "    # Step 7: Calculate the averages for each hospital\n",
        "    hospital_output_list = []\n",
        "    for hospital_id, aggregates in hospital_aggregates.items():\n",
        "        avg_bode_score = aggregates['total_bode_score'] / aggregates['num_patients']\n",
        "        avg_bode_risk = aggregates['total_bode_risk'] / aggregates['num_patients']\n",
        "        hospital_output_list.append([hospital_id, avg_bode_score, avg_bode_risk, aggregates['num_patients']])\n",
        "\n",
        "    return patient_results, hospital_output_list\n",
        "\n",
        "# Step 8: Write the results to CSV files\n",
        "def write_csv(filename, data, headers=None):\n",
        "    with open(filename, 'w', newline='') as csvfile:\n",
        "        writer = csv.writer(csvfile)\n",
        "        if headers:\n",
        "            writer.writerow(headers)\n",
        "        writer.writerows(data)\n",
        "\n",
        "# Step 9: Load data, process it, and save the results\n",
        "patient_data = load_patient_data(patient_csv)\n",
        "hospital_data = load_hospital_data(hospital_json)\n",
        "\n",
        "# Process the data and get the results\n",
        "patient_results, hospital_output_list = process_patients_and_hospitals(patient_data, hospital_data)\n",
        "\n",
        "# Write the patient and hospital results to their respective CSV files\n",
        "write_csv(\"patient_output.csv\", patient_results, headers=[\"PATIENT_NAME\", \"HOSPITAL\", \"BODE_SCORE\", \"BODE_RISK\"])\n",
        "write_csv(\"hospital_output.csv\", hospital_output_list, headers=[\"HOSPITAL\", \"AVG_BODE_SCORE\", \"AVG_BODE_RISK\", \"NUM_PATIENTS\"])\n",
        "\n",
        "# Output for verification (first few lines)\n",
        "print(\"Patient Results:\")\n",
        "for row in patient_results[:5]:\n",
        "    print(row)\n",
        "\n",
        "print(\"\\nHospital Results:\")\n",
        "for row in hospital_output_list[:5]:\n",
        "    print(row)\n",
        "###\n",
        "patient_results = []\n",
        "hospital_output_list = []\n",
        "\n",
        "#Write Patient_output.csv\n",
        "with open(patient_output_file, 'w', newline='') as csvfile:\n",
        "    writer = csv.writer(csvfile)\n",
        "    writer.writerows(patient_results)\n",
        "#Write Hospital_output.csv\n",
        "with open(hospital_output_file, 'w', newline='') as csvfile:\n",
        "    writer = csv.writer(csvfile)\n",
        "    writer.writerows(hospital_output_list)"
      ]
    }
  ],
  "metadata": {
    "language_info": {
      "name": "python"
    },
    "colab": {
      "provenance": [],
      "include_colab_link": true
    },
    "kernelspec": {
      "name": "python3",
      "display_name": "Python 3"
    }
  },
  "nbformat": 4,
  "nbformat_minor": 0
}