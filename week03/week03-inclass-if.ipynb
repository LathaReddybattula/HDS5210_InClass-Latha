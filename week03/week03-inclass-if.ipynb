{
  "cells": [
    {
      "cell_type": "markdown",
      "metadata": {
        "id": "view-in-github",
        "colab_type": "text"
      },
      "source": [
        "<a href=\"https://colab.research.google.com/github/LathaReddybattula/HDS5210_InClass-Latha/blob/master/week03/week03-inclass-if.ipynb\" target=\"_parent\"><img src=\"https://colab.research.google.com/assets/colab-badge.svg\" alt=\"Open In Colab\"/></a>"
      ]
    },
    {
      "cell_type": "code",
      "execution_count": 42,
      "metadata": {
        "id": "armKC0XDn0Y3"
      },
      "outputs": [],
      "source": [
        "def label(age, gender) :\n",
        "  if age>=18 :\n",
        "    if gender == \"male\":\n",
        "      my_label = \"man\"\n",
        "    elif gender == \"female\":\n",
        "      my_label = \"woman\"\n",
        "    else:\n",
        "      my_label = \"adult\"\n",
        "  else:\n",
        "    ##stuff\n",
        "\n",
        "    return my_label"
      ]
    },
    {
      "cell_type": "code",
      "source": [
        "def label(age, gender) :\n",
        "  if age>=18 and gender ==\"female\" :\n",
        "    my_label = \"woman\"\n",
        "  elif age>=18 and gender ==\"male\" :\n",
        "      my_label = \"man\"\n",
        "\n",
        "\n",
        "\n",
        "\n",
        "\n",
        "  return my_label"
      ],
      "metadata": {
        "id": "EtgPDPbOtB_C"
      },
      "execution_count": 40,
      "outputs": []
    },
    {
      "cell_type": "code",
      "source": [
        "def another_label(age, gender):\n",
        "    assert(label(10, \"male\")==\"boy\") # indented line within function definition\n",
        "    assert(label(10, \"female\")==\"girl\") # indented line within function definition\n",
        "    assert(label(10, \"non-binary\")==\"child\") # indented line within function definition\n",
        "\n",
        "    assert(label(100, \"male\")==\"man\") # indented line within function definition\n",
        "    assert(label(100, \"female\")==\"woman\") # indented line within function definition\n",
        "    assert(label(100, \"non-binary\")==\"adult\") # indented line within function definition"
      ],
      "metadata": {
        "id": "Dct_fbRyxqhM"
      },
      "execution_count": 44,
      "outputs": []
    },
    {
      "cell_type": "code",
      "execution_count": null,
      "metadata": {
        "id": "rkvSfIqpn0Y5"
      },
      "outputs": [],
      "source": [
        "# Are there any other tests that you think we should run? Create your own tests below"
      ]
    }
  ],
  "metadata": {
    "language_info": {
      "name": "python"
    },
    "colab": {
      "provenance": [],
      "include_colab_link": true
    },
    "kernelspec": {
      "name": "python3",
      "display_name": "Python 3"
    }
  },
  "nbformat": 4,
  "nbformat_minor": 0
}