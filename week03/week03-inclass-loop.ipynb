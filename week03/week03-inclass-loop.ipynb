{
  "cells": [
    {
      "cell_type": "markdown",
      "metadata": {
        "id": "view-in-github",
        "colab_type": "text"
      },
      "source": [
        "<a href=\"https://colab.research.google.com/github/LathaReddybattula/HDS5210_InClass-Latha/blob/master/week03/week03-inclass-loop.ipynb\" target=\"_parent\"><img src=\"https://colab.research.google.com/assets/colab-badge.svg\" alt=\"Open In Colab\"/></a>"
      ]
    },
    {
      "cell_type": "code",
      "execution_count": 1,
      "metadata": {
        "id": "BvTJzC854-OZ",
        "outputId": "0b9c84a5-9f87-4308-9fc6-9299908f1327",
        "colab": {
          "base_uri": "https://localhost:8080/"
        }
      },
      "outputs": [
        {
          "output_type": "execute_result",
          "data": {
            "text/plain": [
              "(2, 4, 6, 8, 10, 12, 14, 16, 18, 20)"
            ]
          },
          "metadata": {},
          "execution_count": 1
        }
      ],
      "source": [
        "\n",
        "## For every even number between 1 and 20 (including 20), print that number\n",
        "2,4,6,8,10,12,14,16,18,20\n"
      ]
    },
    {
      "cell_type": "code",
      "execution_count": null,
      "metadata": {
        "id": "l1c_7C_04-Oa"
      },
      "outputs": [],
      "source": [
        "## Print all of the multiples of 3 less than 40\n",
        "\n",
        "\n"
      ]
    },
    {
      "cell_type": "code",
      "execution_count": null,
      "metadata": {
        "id": "DON7fYc94-Oa"
      },
      "outputs": [],
      "source": [
        "## Write a loop that tests all of the numbers between 1 and 100 and returns the values that are prime numbers.\n",
        "# A prime number is not cleanly divisible by any value except 1 and itself.\n",
        "# Hint #1: Use a Range\n",
        "# Hint #2: This could require two different for loops, one nested inside the other or a set of conditions combined together.\n",
        "# Hint #3: We only need to see if there is a divisor - we do not need to check all of them."
      ]
    }
  ],
  "metadata": {
    "language_info": {
      "name": "python"
    },
    "colab": {
      "provenance": [],
      "include_colab_link": true
    },
    "kernelspec": {
      "name": "python3",
      "display_name": "Python 3"
    }
  },
  "nbformat": 4,
  "nbformat_minor": 0
}