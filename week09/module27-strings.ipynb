{
  "cells": [
    {
      "cell_type": "markdown",
      "metadata": {
        "id": "view-in-github",
        "colab_type": "text"
      },
      "source": [
        "<a href=\"https://colab.research.google.com/github/LathaReddybattula/HDS5210_InClass-Latha/blob/master/week09/module27-strings.ipynb\" target=\"_parent\"><img src=\"https://colab.research.google.com/assets/colab-badge.svg\" alt=\"Open In Colab\"/></a>"
      ]
    },
    {
      "cell_type": "markdown",
      "metadata": {
        "id": "Ecx6Cl_M0dlS"
      },
      "source": [
        "# Text\n",
        "\n",
        "The objective for this part of the lecture is to explain how Python represents strings and how they can be used.\n",
        "\n",
        "* What is a string\n",
        "* How to manipulate and parse strings\n",
        "* Printing out strings"
      ]
    },
    {
      "cell_type": "code",
      "execution_count": 1,
      "metadata": {
        "id": "24fTTnkD0dlT",
        "outputId": "2431df69-72e6-4676-ddcf-dc09c0689f75",
        "colab": {
          "base_uri": "https://localhost:8080/",
          "height": 35
        }
      },
      "outputs": [
        {
          "output_type": "execute_result",
          "data": {
            "text/plain": [
              "'Dr. James'"
            ],
            "application/vnd.google.colaboratory.intrinsic+json": {
              "type": "string"
            }
          },
          "metadata": {},
          "execution_count": 1
        }
      ],
      "source": [
        "\"Dr. James\""
      ]
    },
    {
      "cell_type": "code",
      "execution_count": 4,
      "metadata": {
        "id": "FpPtngzE0dlV",
        "outputId": "97fedd31-e6d2-4144-afc1-ef404ced09d7",
        "colab": {
          "base_uri": "https://localhost:8080/",
          "height": 35
        }
      },
      "outputs": [
        {
          "output_type": "execute_result",
          "data": {
            "text/plain": [
              "'Dr. James'"
            ],
            "application/vnd.google.colaboratory.intrinsic+json": {
              "type": "string"
            }
          },
          "metadata": {},
          "execution_count": 4
        }
      ],
      "source": [
        "dr='Dr. James'\n",
        "dr"
      ]
    },
    {
      "cell_type": "code",
      "execution_count": 6,
      "metadata": {
        "id": "cBl2oCnR0dlV",
        "outputId": "8d2b6d66-249f-44e9-bfeb-207125906a72",
        "colab": {
          "base_uri": "https://localhost:8080/",
          "height": 35
        }
      },
      "outputs": [
        {
          "output_type": "execute_result",
          "data": {
            "text/plain": [
              "'Dr. James1'"
            ],
            "application/vnd.google.colaboratory.intrinsic+json": {
              "type": "string"
            }
          },
          "metadata": {},
          "execution_count": 6
        }
      ],
      "source": [
        "'Dr. James' + \"1\""
      ]
    },
    {
      "cell_type": "code",
      "execution_count": 7,
      "metadata": {
        "id": "GEZJd3by0dlV",
        "outputId": "8e61ebde-8f21-4bfa-e1f1-7c1e50887c92",
        "colab": {
          "base_uri": "https://localhost:8080/",
          "height": 35
        }
      },
      "outputs": [
        {
          "output_type": "execute_result",
          "data": {
            "text/plain": [
              "'Dr. James1'"
            ],
            "application/vnd.google.colaboratory.intrinsic+json": {
              "type": "string"
            }
          },
          "metadata": {},
          "execution_count": 7
        }
      ],
      "source": [
        "'Dr. James' + str(1)"
      ]
    },
    {
      "cell_type": "code",
      "execution_count": 8,
      "metadata": {
        "id": "uJ7ncJhP0dlW",
        "outputId": "559962be-ca9a-40c0-af12-f43139517f95",
        "colab": {
          "base_uri": "https://localhost:8080/",
          "height": 35
        }
      },
      "outputs": [
        {
          "output_type": "execute_result",
          "data": {
            "text/plain": [
              "'Dr. James and spouse'"
            ],
            "application/vnd.google.colaboratory.intrinsic+json": {
              "type": "string"
            }
          },
          "metadata": {},
          "execution_count": 8
        }
      ],
      "source": [
        "'Dr. James' + ' and spouse'"
      ]
    },
    {
      "cell_type": "code",
      "execution_count": 9,
      "metadata": {
        "id": "dw5xX1PG0dlW",
        "outputId": "155d8632-1457-4202-a061-ddd66475c44d",
        "colab": {
          "base_uri": "https://localhost:8080/",
          "height": 35
        }
      },
      "outputs": [
        {
          "output_type": "execute_result",
          "data": {
            "text/plain": [
              "\"Dr. James's spouse\""
            ],
            "application/vnd.google.colaboratory.intrinsic+json": {
              "type": "string"
            }
          },
          "metadata": {},
          "execution_count": 9
        }
      ],
      "source": [
        "'Dr. James\\'s spouse'"
      ]
    },
    {
      "cell_type": "code",
      "execution_count": 10,
      "metadata": {
        "id": "1Zt68TO90dlW",
        "outputId": "f001870a-5a87-4d99-a8d8-f5eff9b12660",
        "colab": {
          "base_uri": "https://localhost:8080/",
          "height": 35
        }
      },
      "outputs": [
        {
          "output_type": "execute_result",
          "data": {
            "text/plain": [
              "\"Dr. James's spouse\""
            ],
            "application/vnd.google.colaboratory.intrinsic+json": {
              "type": "string"
            }
          },
          "metadata": {},
          "execution_count": 10
        }
      ],
      "source": [
        "\"Dr. James's spouse\""
      ]
    },
    {
      "cell_type": "code",
      "execution_count": 11,
      "metadata": {
        "id": "c7IQlsC_0dlW",
        "outputId": "8c494ffa-2a3d-414a-c09b-39c974fb48b6",
        "colab": {
          "base_uri": "https://localhost:8080/"
        }
      },
      "outputs": [
        {
          "output_type": "execute_result",
          "data": {
            "text/plain": [
              "9"
            ]
          },
          "metadata": {},
          "execution_count": 11
        }
      ],
      "source": [
        "len('Dr. James')"
      ]
    },
    {
      "cell_type": "code",
      "execution_count": 12,
      "metadata": {
        "id": "xBBraj0F0dlX",
        "outputId": "34cb2dd8-c652-483c-91d9-c735677e03e9",
        "colab": {
          "base_uri": "https://localhost:8080/"
        }
      },
      "outputs": [
        {
          "output_type": "execute_result",
          "data": {
            "text/plain": [
              "18"
            ]
          },
          "metadata": {},
          "execution_count": 12
        }
      ],
      "source": [
        "len('Dr. James\\'s Spouse')"
      ]
    },
    {
      "cell_type": "code",
      "execution_count": 13,
      "metadata": {
        "id": "gt2EFOPX0dlX",
        "outputId": "4ac8583d-b3f1-4775-8b3e-62bd74210316",
        "colab": {
          "base_uri": "https://localhost:8080/"
        }
      },
      "outputs": [
        {
          "output_type": "execute_result",
          "data": {
            "text/plain": [
              "18"
            ]
          },
          "metadata": {},
          "execution_count": 13
        }
      ],
      "source": [
        "len(\"Dr. James's Spouse\")"
      ]
    },
    {
      "cell_type": "code",
      "execution_count": 14,
      "metadata": {
        "id": "RVxF3qh30dlX"
      },
      "outputs": [],
      "source": [
        "dr = 'Dr. James\\'s \"Spouse\"'"
      ]
    },
    {
      "cell_type": "code",
      "execution_count": 15,
      "metadata": {
        "id": "8C5o0WoS0dlX",
        "outputId": "857e6d53-bed9-4614-9bad-a0cfe2c881fa",
        "colab": {
          "base_uri": "https://localhost:8080/",
          "height": 35
        }
      },
      "outputs": [
        {
          "output_type": "execute_result",
          "data": {
            "text/plain": [
              "'Dr. James\\'s \"Spouse\"'"
            ],
            "application/vnd.google.colaboratory.intrinsic+json": {
              "type": "string"
            }
          },
          "metadata": {},
          "execution_count": 15
        }
      ],
      "source": [
        "dr"
      ]
    },
    {
      "cell_type": "code",
      "execution_count": 16,
      "metadata": {
        "id": "fAKhU81G0dlY",
        "outputId": "4809665e-fc3f-4f6e-e0a5-e1187716d0ee",
        "colab": {
          "base_uri": "https://localhost:8080/",
          "height": 35
        }
      },
      "outputs": [
        {
          "output_type": "execute_result",
          "data": {
            "text/plain": [
              "'Dr. James\\'s \"Spouse\"'"
            ],
            "application/vnd.google.colaboratory.intrinsic+json": {
              "type": "string"
            }
          },
          "metadata": {},
          "execution_count": 16
        }
      ],
      "source": [
        "\"Dr. James's \\\"Spouse\\\"\""
      ]
    },
    {
      "cell_type": "code",
      "execution_count": 17,
      "metadata": {
        "id": "G1YvJmT00dlY",
        "outputId": "692d03f9-985d-4918-efe5-b4a2928395da",
        "colab": {
          "base_uri": "https://localhost:8080/"
        }
      },
      "outputs": [
        {
          "output_type": "stream",
          "name": "stdout",
          "text": [
            "Dr. James's \"Spouse\"\n"
          ]
        }
      ],
      "source": [
        "print(dr)"
      ]
    },
    {
      "cell_type": "code",
      "execution_count": 18,
      "metadata": {
        "id": "o58KajLb0dlY",
        "outputId": "111fe7d7-ed15-4188-a4f7-b68f0668c962",
        "colab": {
          "base_uri": "https://localhost:8080/"
        }
      },
      "outputs": [
        {
          "output_type": "execute_result",
          "data": {
            "text/plain": [
              "20"
            ]
          },
          "metadata": {},
          "execution_count": 18
        }
      ],
      "source": [
        "len(dr)"
      ]
    },
    {
      "cell_type": "code",
      "execution_count": 19,
      "metadata": {
        "id": "vcx3X2ge0dlY",
        "outputId": "24da574e-e00a-4f07-f394-6a0e1348353b",
        "colab": {
          "base_uri": "https://localhost:8080/",
          "height": 35
        }
      },
      "outputs": [
        {
          "output_type": "execute_result",
          "data": {
            "text/plain": [
              "'A'"
            ],
            "application/vnd.google.colaboratory.intrinsic+json": {
              "type": "string"
            }
          },
          "metadata": {},
          "execution_count": 19
        }
      ],
      "source": [
        "seq = 'AGCCGAC'\n",
        "seq[5]"
      ]
    },
    {
      "cell_type": "code",
      "execution_count": 20,
      "metadata": {
        "id": "7d09B7Mx0dlY",
        "outputId": "59d4ff6d-4b5e-44d7-a9d8-44f9e454c2a3",
        "colab": {
          "base_uri": "https://localhost:8080/",
          "height": 35
        }
      },
      "outputs": [
        {
          "output_type": "execute_result",
          "data": {
            "text/plain": [
              "'AC'"
            ],
            "application/vnd.google.colaboratory.intrinsic+json": {
              "type": "string"
            }
          },
          "metadata": {},
          "execution_count": 20
        }
      ],
      "source": [
        "# [start_position:up_until_but_not_including]\n",
        "# First character is in position 0\n",
        "seq[5:8]"
      ]
    },
    {
      "cell_type": "code",
      "execution_count": 21,
      "metadata": {
        "id": "JeWdqLpy0dlY",
        "outputId": "c26f3e14-62ac-4883-da50-5a53dec07592",
        "colab": {
          "base_uri": "https://localhost:8080/",
          "height": 35
        }
      },
      "outputs": [
        {
          "output_type": "execute_result",
          "data": {
            "text/plain": [
              "'AGCCG'"
            ],
            "application/vnd.google.colaboratory.intrinsic+json": {
              "type": "string"
            }
          },
          "metadata": {},
          "execution_count": 21
        }
      ],
      "source": [
        "start_position=0\n",
        "number_of_characters=5\n",
        "seq[start_position:start_position+number_of_characters]"
      ]
    },
    {
      "cell_type": "code",
      "execution_count": 22,
      "metadata": {
        "id": "z7HNmT_M0dlY"
      },
      "outputs": [],
      "source": [
        "txt = '''This\n",
        "string\n",
        "is\n",
        "on\n",
        "multiple\n",
        "lines'''"
      ]
    },
    {
      "cell_type": "code",
      "execution_count": 23,
      "metadata": {
        "id": "lOoKLbnq0dlZ",
        "outputId": "5eb4af84-b079-417a-a7fe-0d4e6209bbd7",
        "colab": {
          "base_uri": "https://localhost:8080/",
          "height": 35
        }
      },
      "outputs": [
        {
          "output_type": "execute_result",
          "data": {
            "text/plain": [
              "'This\\nstring\\nis\\non\\nmultiple\\nlines'"
            ],
            "application/vnd.google.colaboratory.intrinsic+json": {
              "type": "string"
            }
          },
          "metadata": {},
          "execution_count": 23
        }
      ],
      "source": [
        "txt"
      ]
    },
    {
      "cell_type": "code",
      "execution_count": 24,
      "metadata": {
        "id": "0h5oPJRo0dlZ",
        "outputId": "1f48363e-1fea-4739-ee0a-3904cf2d070f",
        "colab": {
          "base_uri": "https://localhost:8080/"
        }
      },
      "outputs": [
        {
          "output_type": "stream",
          "name": "stdout",
          "text": [
            "This\n",
            "string\n",
            "is\n",
            "on\n",
            "multiple\n",
            "lines\n"
          ]
        }
      ],
      "source": [
        "print(txt)"
      ]
    },
    {
      "cell_type": "code",
      "execution_count": 25,
      "metadata": {
        "id": "3o54Ck880dlZ",
        "outputId": "f4d446e9-176f-4865-e548-87eccf97b01b",
        "colab": {
          "base_uri": "https://localhost:8080/"
        }
      },
      "outputs": [
        {
          "output_type": "execute_result",
          "data": {
            "text/plain": [
              "32"
            ]
          },
          "metadata": {},
          "execution_count": 25
        }
      ],
      "source": [
        "len(txt)"
      ]
    },
    {
      "cell_type": "code",
      "execution_count": 27,
      "metadata": {
        "id": "yMaJuVcI0dlZ"
      },
      "outputs": [],
      "source": [
        "txt2 = 'This\\nstring\\nis\\non\\nmultiple\\nlines'"
      ]
    },
    {
      "cell_type": "code",
      "execution_count": 28,
      "metadata": {
        "id": "qEm8J6Cz0dlZ",
        "outputId": "19829c47-dec8-4ad2-ecb1-7b98524f5f6c",
        "colab": {
          "base_uri": "https://localhost:8080/"
        }
      },
      "outputs": [
        {
          "output_type": "stream",
          "name": "stdout",
          "text": [
            "This\n",
            "string\n",
            "is\n",
            "on\n",
            "multiple\n",
            "lines\n"
          ]
        }
      ],
      "source": [
        "print(txt2)"
      ]
    },
    {
      "cell_type": "code",
      "execution_count": 29,
      "metadata": {
        "id": "Zow7tUKv0dlZ",
        "outputId": "43d6fbe1-3023-45a8-d97b-030b5c53e0d1",
        "colab": {
          "base_uri": "https://localhost:8080/"
        }
      },
      "outputs": [
        {
          "output_type": "stream",
          "name": "stdout",
          "text": [
            "a1\ta2\n",
            "b10\tb2\n"
          ]
        }
      ],
      "source": [
        "tbl = \"a1\\ta2\\nb10\\tb2\"\n",
        "print(tbl)"
      ]
    },
    {
      "cell_type": "markdown",
      "metadata": {
        "id": "DfmuZXBF0dlZ"
      },
      "source": [
        "# Parts of strings"
      ]
    },
    {
      "cell_type": "code",
      "execution_count": 30,
      "metadata": {
        "id": "xYPSz3J60dlZ"
      },
      "outputs": [],
      "source": [
        "name = \"Paul E. Boal\""
      ]
    },
    {
      "cell_type": "markdown",
      "metadata": {
        "id": "95zH_8hk0dlZ"
      },
      "source": [
        "`[]` is used to \"slice\" a string\n",
        "\n",
        "```\n",
        "a[start:end] # items start through end-1\n",
        "a[start:]    # items start through the rest of the array\n",
        "a[:end]      # items from the beginning through end-1\n",
        "a[:]         # a copy of the whole array\n",
        "```\n",
        "\n",
        "If `start` or `end` is a negative number, then it means that many characters from the end of the string."
      ]
    },
    {
      "cell_type": "code",
      "execution_count": 31,
      "metadata": {
        "id": "5CAmAmRC0dla",
        "outputId": "76145dce-4d92-4cc1-baf1-63bb6190a893",
        "colab": {
          "base_uri": "https://localhost:8080/"
        }
      },
      "outputs": [
        {
          "output_type": "execute_result",
          "data": {
            "text/plain": [
              "12"
            ]
          },
          "metadata": {},
          "execution_count": 31
        }
      ],
      "source": [
        "len(name)"
      ]
    },
    {
      "cell_type": "code",
      "execution_count": 32,
      "metadata": {
        "id": "EBU9xECh0dla",
        "outputId": "0dc12545-dac0-4b1f-99e7-8ddc94fc4031",
        "colab": {
          "base_uri": "https://localhost:8080/",
          "height": 35
        }
      },
      "outputs": [
        {
          "output_type": "execute_result",
          "data": {
            "text/plain": [
              "'P'"
            ],
            "application/vnd.google.colaboratory.intrinsic+json": {
              "type": "string"
            }
          },
          "metadata": {},
          "execution_count": 32
        }
      ],
      "source": [
        "name[0]"
      ]
    },
    {
      "cell_type": "code",
      "execution_count": 33,
      "metadata": {
        "id": "cvJrzH550dla",
        "outputId": "e0aed160-b4a7-4d60-bea2-5c7d2ca47571",
        "colab": {
          "base_uri": "https://localhost:8080/",
          "height": 35
        }
      },
      "outputs": [
        {
          "output_type": "execute_result",
          "data": {
            "text/plain": [
              "'Paul'"
            ],
            "application/vnd.google.colaboratory.intrinsic+json": {
              "type": "string"
            }
          },
          "metadata": {},
          "execution_count": 33
        }
      ],
      "source": [
        "name[0:4]"
      ]
    },
    {
      "cell_type": "code",
      "execution_count": 34,
      "metadata": {
        "id": "ZFkhSJSt0dla",
        "outputId": "2afbe14a-a074-478c-e266-c5c084fbf7c5",
        "colab": {
          "base_uri": "https://localhost:8080/",
          "height": 35
        }
      },
      "outputs": [
        {
          "output_type": "execute_result",
          "data": {
            "text/plain": [
              "'Boal'"
            ],
            "application/vnd.google.colaboratory.intrinsic+json": {
              "type": "string"
            }
          },
          "metadata": {},
          "execution_count": 34
        }
      ],
      "source": [
        "name[-4:]"
      ]
    },
    {
      "cell_type": "code",
      "execution_count": 35,
      "metadata": {
        "id": "XjiN_dzK0dla",
        "outputId": "9723ace2-e7f0-4f13-ccd3-ff5e61bab4cc",
        "colab": {
          "base_uri": "https://localhost:8080/",
          "height": 35
        }
      },
      "outputs": [
        {
          "output_type": "execute_result",
          "data": {
            "text/plain": [
              "'E. Boal'"
            ],
            "application/vnd.google.colaboratory.intrinsic+json": {
              "type": "string"
            }
          },
          "metadata": {},
          "execution_count": 35
        }
      ],
      "source": [
        "name[5:]"
      ]
    },
    {
      "cell_type": "code",
      "execution_count": 36,
      "metadata": {
        "id": "9c1MEzVJ0dla",
        "outputId": "97ef7554-570c-4699-8fc3-a5e6c2407697",
        "colab": {
          "base_uri": "https://localhost:8080/"
        }
      },
      "outputs": [
        {
          "output_type": "stream",
          "name": "stdout",
          "text": [
            "Paul E. Boal\n"
          ]
        }
      ],
      "source": [
        "print(name)"
      ]
    },
    {
      "cell_type": "code",
      "execution_count": 37,
      "metadata": {
        "id": "G1ZJMAyl0dlb",
        "outputId": "5bfabd13-5b2a-4c46-e55d-f7938a8a0bbd",
        "colab": {
          "base_uri": "https://localhost:8080/"
        }
      },
      "outputs": [
        {
          "output_type": "execute_result",
          "data": {
            "text/plain": [
              "4"
            ]
          },
          "metadata": {},
          "execution_count": 37
        }
      ],
      "source": [
        "name.find(' ')"
      ]
    },
    {
      "cell_type": "code",
      "execution_count": 38,
      "metadata": {
        "id": "EnNjw2XY0dlb",
        "outputId": "32a56b86-4f31-4439-d093-10dcc2cabe63",
        "colab": {
          "base_uri": "https://localhost:8080/",
          "height": 35
        }
      },
      "outputs": [
        {
          "output_type": "execute_result",
          "data": {
            "text/plain": [
              "'Paul'"
            ],
            "application/vnd.google.colaboratory.intrinsic+json": {
              "type": "string"
            }
          },
          "metadata": {},
          "execution_count": 38
        }
      ],
      "source": [
        "name[:name.find(' ')]"
      ]
    },
    {
      "cell_type": "code",
      "execution_count": 39,
      "metadata": {
        "id": "th5VE8hk0dlb",
        "outputId": "302993fd-eea5-4e95-8328-67a50d16c94a",
        "colab": {
          "base_uri": "https://localhost:8080/",
          "height": 35
        }
      },
      "outputs": [
        {
          "output_type": "execute_result",
          "data": {
            "text/plain": [
              "'E. Boal'"
            ],
            "application/vnd.google.colaboratory.intrinsic+json": {
              "type": "string"
            }
          },
          "metadata": {},
          "execution_count": 39
        }
      ],
      "source": [
        "name[name.find(' ')+1:]"
      ]
    },
    {
      "cell_type": "code",
      "execution_count": 40,
      "metadata": {
        "id": "D2xfOKLt0dlb",
        "outputId": "36a0a197-3882-4f2d-88d7-7b138b86fa42",
        "colab": {
          "base_uri": "https://localhost:8080/",
          "height": 35
        }
      },
      "outputs": [
        {
          "output_type": "execute_result",
          "data": {
            "text/plain": [
              "'E. Boal'"
            ],
            "application/vnd.google.colaboratory.intrinsic+json": {
              "type": "string"
            }
          },
          "metadata": {},
          "execution_count": 40
        }
      ],
      "source": [
        "pos_of_middle_name = name.find(' ') + 1\n",
        "middle_and_last = name[pos_of_middle_name:]\n",
        "middle_and_last"
      ]
    },
    {
      "cell_type": "code",
      "execution_count": 41,
      "metadata": {
        "id": "eeYKRNnZ0dlm",
        "outputId": "d6e7f035-9a27-4708-ec3c-e4752adcd03f",
        "colab": {
          "base_uri": "https://localhost:8080/",
          "height": 35
        }
      },
      "outputs": [
        {
          "output_type": "execute_result",
          "data": {
            "text/plain": [
              "'Boal'"
            ],
            "application/vnd.google.colaboratory.intrinsic+json": {
              "type": "string"
            }
          },
          "metadata": {},
          "execution_count": 41
        }
      ],
      "source": [
        "# Position of the middle name is up to the first space\n",
        "pos_of_middle_name = name.find(' ') + 1\n",
        "\n",
        "middle_and_last = name[pos_of_middle_name:]\n",
        "\n",
        "# Position of the last name is the position of the first space after the end of the first name\n",
        "pos_of_last = middle_and_last.find(' ') + 1\n",
        "\n",
        "middle_and_last[pos_of_last:]"
      ]
    },
    {
      "cell_type": "code",
      "execution_count": 42,
      "metadata": {
        "id": "oLh2XSDS0dlm",
        "outputId": "a23a9673-0bd7-4d36-d2ba-cf6512d18b7c",
        "colab": {
          "base_uri": "https://localhost:8080/",
          "height": 35
        }
      },
      "outputs": [
        {
          "output_type": "execute_result",
          "data": {
            "text/plain": [
              "'Paul E. Boal'"
            ],
            "application/vnd.google.colaboratory.intrinsic+json": {
              "type": "string"
            }
          },
          "metadata": {},
          "execution_count": 42
        }
      ],
      "source": [
        "name"
      ]
    },
    {
      "cell_type": "code",
      "execution_count": 43,
      "metadata": {
        "id": "iT3g7Mcy0dlm",
        "outputId": "dad28c20-7512-4eae-b1d8-0d3b9223b627",
        "colab": {
          "base_uri": "https://localhost:8080/"
        }
      },
      "outputs": [
        {
          "output_type": "execute_result",
          "data": {
            "text/plain": [
              "['Paul', 'E.', 'Boal']"
            ]
          },
          "metadata": {},
          "execution_count": 43
        }
      ],
      "source": [
        "name.split(' ')"
      ]
    },
    {
      "cell_type": "markdown",
      "metadata": {
        "id": "shXvRYIb0dlm"
      },
      "source": [
        "# Converting text to numbers"
      ]
    },
    {
      "cell_type": "code",
      "execution_count": 44,
      "metadata": {
        "id": "yWL_B4bh0dlm",
        "outputId": "b034bd2a-bc60-4b16-a31b-05292234cf16",
        "colab": {
          "base_uri": "https://localhost:8080/"
        }
      },
      "outputs": [
        {
          "output_type": "execute_result",
          "data": {
            "text/plain": [
              "45"
            ]
          },
          "metadata": {},
          "execution_count": 44
        }
      ],
      "source": [
        "int('45')"
      ]
    },
    {
      "cell_type": "code",
      "execution_count": 45,
      "metadata": {
        "id": "9ZWHLKiJ0dlm",
        "outputId": "531b14aa-4837-46f9-cd5e-768ca7c8e65b",
        "colab": {
          "base_uri": "https://localhost:8080/"
        }
      },
      "outputs": [
        {
          "output_type": "execute_result",
          "data": {
            "text/plain": [
              "45.12"
            ]
          },
          "metadata": {},
          "execution_count": 45
        }
      ],
      "source": [
        "float('45.12')"
      ]
    },
    {
      "cell_type": "code",
      "execution_count": 48,
      "metadata": {
        "id": "u4H_zzcC0dln",
        "outputId": "6da4f6ef-bd28-43e7-dbbe-0ed040e19223",
        "colab": {
          "base_uri": "https://localhost:8080/"
        }
      },
      "outputs": [
        {
          "output_type": "execute_result",
          "data": {
            "text/plain": [
              "4512"
            ]
          },
          "metadata": {},
          "execution_count": 48
        }
      ],
      "source": [
        "int('45_12')"
      ]
    },
    {
      "cell_type": "code",
      "execution_count": 49,
      "metadata": {
        "id": "HUsAg2Ep0dln",
        "outputId": "692d6433-faee-4428-8547-d0f99a4208f2",
        "colab": {
          "base_uri": "https://localhost:8080/"
        }
      },
      "outputs": [
        {
          "output_type": "execute_result",
          "data": {
            "text/plain": [
              "str"
            ]
          },
          "metadata": {},
          "execution_count": 49
        }
      ],
      "source": [
        "score='45.12'\n",
        "type(score)"
      ]
    },
    {
      "cell_type": "code",
      "execution_count": 50,
      "metadata": {
        "id": "ghVXtyS_0dln",
        "outputId": "cb9c4499-5a61-4a61-d37e-903685616749",
        "colab": {
          "base_uri": "https://localhost:8080/"
        }
      },
      "outputs": [
        {
          "output_type": "execute_result",
          "data": {
            "text/plain": [
              "45"
            ]
          },
          "metadata": {},
          "execution_count": 50
        }
      ],
      "source": [
        "int(score[:score.find('.')])"
      ]
    },
    {
      "cell_type": "code",
      "execution_count": 54,
      "metadata": {
        "id": "GgYxsEl30dln",
        "outputId": "3e2df951-7d41-49e0-b12e-8f28b368de21",
        "colab": {
          "base_uri": "https://localhost:8080/"
        }
      },
      "outputs": [
        {
          "output_type": "execute_result",
          "data": {
            "text/plain": [
              "1"
            ]
          },
          "metadata": {},
          "execution_count": 54
        }
      ],
      "source": [
        "int(1)"
      ]
    },
    {
      "cell_type": "code",
      "execution_count": 55,
      "metadata": {
        "id": "R8EWGAbG0dln",
        "outputId": "d7f9907d-cc9d-49d7-996b-e4d267f92515",
        "colab": {
          "base_uri": "https://localhost:8080/"
        }
      },
      "outputs": [
        {
          "output_type": "execute_result",
          "data": {
            "text/plain": [
              "10"
            ]
          },
          "metadata": {},
          "execution_count": 55
        }
      ],
      "source": [
        "int('a',base=16)"
      ]
    },
    {
      "cell_type": "code",
      "execution_count": 58,
      "metadata": {
        "id": "TK29y8d70dln",
        "outputId": "1f7b9553-3a76-46c7-fbb5-40ab6218e8c8",
        "colab": {
          "base_uri": "https://localhost:8080/"
        }
      },
      "outputs": [
        {
          "output_type": "execute_result",
          "data": {
            "text/plain": [
              "14.3"
            ]
          },
          "metadata": {},
          "execution_count": 58
        }
      ],
      "source": [
        "float(10.3 + 4)"
      ]
    },
    {
      "cell_type": "code",
      "execution_count": 59,
      "metadata": {
        "id": "zXCBQBWn0dln",
        "outputId": "83f738e5-07eb-4308-a9c9-82b62bcd4fab",
        "colab": {
          "base_uri": "https://localhost:8080/"
        }
      },
      "outputs": [
        {
          "output_type": "execute_result",
          "data": {
            "text/plain": [
              "14.5"
            ]
          },
          "metadata": {},
          "execution_count": 59
        }
      ],
      "source": [
        "a=\"14.5\"\n",
        "float(a)"
      ]
    },
    {
      "cell_type": "code",
      "execution_count": null,
      "metadata": {
        "id": "y8FXHLuk0dln"
      },
      "outputs": [],
      "source": []
    },
    {
      "cell_type": "markdown",
      "metadata": {
        "id": "x2Ivztei0dln"
      },
      "source": [
        "## Printing text"
      ]
    },
    {
      "cell_type": "code",
      "execution_count": 61,
      "metadata": {
        "id": "Sp8ii_ua0dln",
        "outputId": "572ef7f5-bd84-40ed-d62c-587011b3a473",
        "colab": {
          "base_uri": "https://localhost:8080/"
        }
      },
      "outputs": [
        {
          "output_type": "stream",
          "name": "stdout",
          "text": [
            "Put a formatted number here: 14.50\n"
          ]
        }
      ],
      "source": [
        "try:\n",
        "    formatted_number = float(a)  # Attempt to convert to float\n",
        "    print('Put a formatted number here: {:.2f}'.format(formatted_number))\n",
        "except ValueError:\n",
        "    print(\"Error: The variable 'a' cannot be converted to a float.\")"
      ]
    },
    {
      "cell_type": "code",
      "execution_count": 63,
      "metadata": {
        "id": "CaYYnSuT0dln"
      },
      "outputs": [],
      "source": [
        "# \"new\" style formatting\n",
        "def print_numbers(a,b):\n",
        "    return 'Here is {:d} and here is {:d}'.format(a,b)"
      ]
    },
    {
      "cell_type": "code",
      "execution_count": 64,
      "metadata": {
        "id": "LHjPvSa80dlo",
        "outputId": "ae181f84-4034-4c40-f50d-b59b7ecc65c6",
        "colab": {
          "base_uri": "https://localhost:8080/"
        }
      },
      "outputs": [
        {
          "output_type": "stream",
          "name": "stdout",
          "text": [
            "Here is 1 and here is 2\n"
          ]
        }
      ],
      "source": [
        "print(print_numbers(1,2))"
      ]
    },
    {
      "cell_type": "markdown",
      "metadata": {
        "id": "RffsQ5vd0dlo"
      },
      "source": [
        "See https://docs.python.org/3/library/stdtypes.html#printf-style-string-formatting for a good reference on formatting."
      ]
    },
    {
      "cell_type": "code",
      "execution_count": 65,
      "metadata": {
        "id": "5uKXz5TM0dlo",
        "outputId": "f3194cfc-94c0-4bfc-87e1-a0de53afe41d",
        "colab": {
          "base_uri": "https://localhost:8080/"
        }
      },
      "outputs": [
        {
          "output_type": "stream",
          "name": "stdout",
          "text": [
            "Dr. James Jane Doe Right Ulnar Fracture\n"
          ]
        }
      ],
      "source": [
        "physician = 'Dr. James'\n",
        "patient = 'Jane Doe'\n",
        "diagnosis = 'Right Ulnar Fracture'\n",
        "print(physician, patient, diagnosis, sep=' ')"
      ]
    },
    {
      "cell_type": "markdown",
      "metadata": {
        "id": "vRlbJgPh0dlo"
      },
      "source": [
        "## Splitting Strings"
      ]
    },
    {
      "cell_type": "code",
      "execution_count": 66,
      "metadata": {
        "id": "Fh9jRJrq0dlo"
      },
      "outputs": [],
      "source": [
        "names=\"Paul,Sarahlynn,Ellie,Ada,Teddy\""
      ]
    },
    {
      "cell_type": "code",
      "execution_count": 67,
      "metadata": {
        "id": "ENuCyJ_p0dlo",
        "outputId": "f88e5374-576e-4b28-a598-5dada51aef1f",
        "colab": {
          "base_uri": "https://localhost:8080/"
        }
      },
      "outputs": [
        {
          "output_type": "execute_result",
          "data": {
            "text/plain": [
              "['Paul', 'Sarahlynn', 'Ellie', 'Ada', 'Teddy']"
            ]
          },
          "metadata": {},
          "execution_count": 67
        }
      ],
      "source": [
        "names.split(',')"
      ]
    },
    {
      "cell_type": "code",
      "execution_count": 68,
      "metadata": {
        "id": "1OVwbP-J0dlo"
      },
      "outputs": [],
      "source": [
        "names=\"Paul, Sarahlynn, Ellie, Ada, Teddy\""
      ]
    },
    {
      "cell_type": "code",
      "execution_count": 69,
      "metadata": {
        "id": "ZZAfL0L50dlo",
        "outputId": "244df198-ea95-45d3-f747-e9ceb45681ec",
        "colab": {
          "base_uri": "https://localhost:8080/"
        }
      },
      "outputs": [
        {
          "output_type": "execute_result",
          "data": {
            "text/plain": [
              "['Paul', ' Sarahlynn', ' Ellie', ' Ada', ' Teddy']"
            ]
          },
          "metadata": {},
          "execution_count": 69
        }
      ],
      "source": [
        "\n",
        "names.split(',')"
      ]
    },
    {
      "cell_type": "code",
      "execution_count": 70,
      "metadata": {
        "id": "wU-GSYDs0dlo",
        "outputId": "a929c23c-f2da-46fd-b7ac-c49e7fb9f8f0",
        "colab": {
          "base_uri": "https://localhost:8080/"
        }
      },
      "outputs": [
        {
          "output_type": "execute_result",
          "data": {
            "text/plain": [
              "['Paul', 'Sarahlynn', 'Ellie', 'Ada', 'Teddy']"
            ]
          },
          "metadata": {},
          "execution_count": 70
        }
      ],
      "source": [
        "names.split(', ')"
      ]
    },
    {
      "cell_type": "markdown",
      "metadata": {
        "id": "iC-eaqz40dlp"
      },
      "source": [
        "## Find the Nth Occurrence of a String"
      ]
    },
    {
      "cell_type": "code",
      "execution_count": 71,
      "metadata": {
        "id": "lLHvUucb0dlp"
      },
      "outputs": [],
      "source": [
        "our_string = \"love is love is love is love\""
      ]
    },
    {
      "cell_type": "code",
      "execution_count": 72,
      "metadata": {
        "id": "maM23hsB0dlp",
        "outputId": "b4d80fee-5980-4f4d-8f5a-bf84c6ae8c47",
        "colab": {
          "base_uri": "https://localhost:8080/"
        }
      },
      "outputs": [
        {
          "output_type": "execute_result",
          "data": {
            "text/plain": [
              "0"
            ]
          },
          "metadata": {},
          "execution_count": 72
        }
      ],
      "source": [
        "first_love = our_string.find(\"love\")\n",
        "first_love"
      ]
    },
    {
      "cell_type": "code",
      "execution_count": 73,
      "metadata": {
        "id": "70AyB7kG0dlp",
        "outputId": "2a6c32b1-06f0-482e-e07f-b5e3bdf4d4bb",
        "colab": {
          "base_uri": "https://localhost:8080/"
        }
      },
      "outputs": [
        {
          "output_type": "execute_result",
          "data": {
            "text/plain": [
              "8"
            ]
          },
          "metadata": {},
          "execution_count": 73
        }
      ],
      "source": [
        "second_love = our_string.find(\"love\", first_love+1)\n",
        "second_love"
      ]
    },
    {
      "cell_type": "code",
      "execution_count": 74,
      "metadata": {
        "id": "KOT4u18G0dlp",
        "outputId": "836ac1b9-15f2-4f63-a42c-5936947caa69",
        "colab": {
          "base_uri": "https://localhost:8080/"
        }
      },
      "outputs": [
        {
          "output_type": "execute_result",
          "data": {
            "text/plain": [
              "16"
            ]
          },
          "metadata": {},
          "execution_count": 74
        }
      ],
      "source": [
        "third_love = our_string.find(\"love\", second_love+1)\n",
        "third_love"
      ]
    },
    {
      "cell_type": "code",
      "execution_count": null,
      "metadata": {
        "id": "bxWjYsGT0dlp"
      },
      "outputs": [],
      "source": []
    },
    {
      "cell_type": "code",
      "execution_count": 75,
      "metadata": {
        "id": "6z6UqQbn0dlp"
      },
      "outputs": [],
      "source": [
        "def find_nth(str_to_search, for_str, nth):\n",
        "\n",
        "    start = 0\n",
        "    for i in range(1, nth+1):\n",
        "        pos = str_to_search.find(for_str, start)\n",
        "        if pos == -1:\n",
        "            return -1\n",
        "        else:\n",
        "            start = pos+1\n",
        "\n",
        "    return pos"
      ]
    },
    {
      "cell_type": "code",
      "execution_count": 76,
      "metadata": {
        "id": "seKNrbQX0dlp",
        "outputId": "2a2a223b-9256-4fc7-cfe3-47c45125f87b",
        "colab": {
          "base_uri": "https://localhost:8080/"
        }
      },
      "outputs": [
        {
          "output_type": "execute_result",
          "data": {
            "text/plain": [
              "24"
            ]
          },
          "metadata": {},
          "execution_count": 76
        }
      ],
      "source": [
        "find_nth(our_string, \"love\", 4)"
      ]
    },
    {
      "cell_type": "code",
      "execution_count": 77,
      "metadata": {
        "id": "sEOgIVJ40dlq",
        "outputId": "25c66d80-8130-4b30-db08-cef7e902a56a",
        "colab": {
          "base_uri": "https://localhost:8080/"
        }
      },
      "outputs": [
        {
          "output_type": "execute_result",
          "data": {
            "text/plain": [
              "5"
            ]
          },
          "metadata": {},
          "execution_count": 77
        }
      ],
      "source": [
        "find_nth(our_string, \"is\", 1)"
      ]
    },
    {
      "cell_type": "code",
      "execution_count": 78,
      "metadata": {
        "id": "GZSqemLE0dlq",
        "outputId": "d79c547d-0583-40c2-8b47-abb0d98f8946",
        "colab": {
          "base_uri": "https://localhost:8080/"
        }
      },
      "outputs": [
        {
          "output_type": "stream",
          "name": "stdout",
          "text": [
            "0\n",
            "8\n",
            "16\n",
            "24\n",
            "-1\n",
            "-1\n",
            "-1\n",
            "-1\n",
            "-1\n"
          ]
        }
      ],
      "source": [
        "for n in range(1,10):\n",
        "    pos = find_nth(our_string, \"love\", n)\n",
        "    print(pos)"
      ]
    },
    {
      "cell_type": "code",
      "execution_count": 79,
      "metadata": {
        "id": "jMbaMiBH0dlq"
      },
      "outputs": [],
      "source": [
        "def find_nth(str_to_search, for_str, nth, base=0):\n",
        "\n",
        "    first = str_to_search.find(for_str)\n",
        "    #print(nth, str_to_search)\n",
        "\n",
        "    if first == -1 and nth == 1:\n",
        "        return -1\n",
        "    elif nth == 1:\n",
        "        return first + base\n",
        "    else:\n",
        "        return find_nth(str_to_search[first+1:], for_str, nth-1, base+first+1)\n"
      ]
    },
    {
      "cell_type": "code",
      "execution_count": 80,
      "metadata": {
        "id": "bInj0-Qa0dlq",
        "outputId": "0a35e490-983f-4c86-8d02-4859fe86668b",
        "colab": {
          "base_uri": "https://localhost:8080/"
        }
      },
      "outputs": [
        {
          "output_type": "stream",
          "name": "stdout",
          "text": [
            "0\n",
            "8\n",
            "16\n",
            "24\n",
            "-1\n",
            "-1\n",
            "-1\n",
            "-1\n",
            "-1\n"
          ]
        }
      ],
      "source": [
        "for n in range(1,10):\n",
        "    pos = find_nth(\"love is love is love is love\", \"love\", n)\n",
        "    print(pos)"
      ]
    },
    {
      "cell_type": "code",
      "execution_count": null,
      "metadata": {
        "id": "T9KpKqKU0dlq"
      },
      "outputs": [],
      "source": []
    }
  ],
  "metadata": {
    "kernelspec": {
      "display_name": "Python 3",
      "language": "python",
      "name": "python3"
    },
    "language_info": {
      "codemirror_mode": {
        "name": "ipython",
        "version": 3
      },
      "file_extension": ".py",
      "mimetype": "text/x-python",
      "name": "python",
      "nbconvert_exporter": "python",
      "pygments_lexer": "ipython3",
      "version": "3.6.7"
    },
    "colab": {
      "provenance": [],
      "include_colab_link": true
    }
  },
  "nbformat": 4,
  "nbformat_minor": 0
}