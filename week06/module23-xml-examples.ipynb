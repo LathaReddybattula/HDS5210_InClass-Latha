{
  "cells": [
    {
      "cell_type": "markdown",
      "metadata": {
        "id": "NXtve4m7-nA4"
      },
      "source": [
        "# Reading XML to an object tree"
      ]
    },
    {
      "cell_type": "code",
      "execution_count": 7,
      "metadata": {
        "id": "AhhL12mN-nA5"
      },
      "outputs": [],
      "source": [
        "from lxml import objectify\n",
        "PATIENT_FILE='/content/patient.xml'"
      ]
    },
    {
      "cell_type": "code",
      "execution_count": 8,
      "metadata": {
        "id": "VYDBW1Kc-nA5"
      },
      "outputs": [],
      "source": [
        "path = PATIENT_FILE\n",
        "with open(path) as f:\n",
        "    xml = objectify.parse(f)\n",
        "\n",
        "patient = xml.getroot()"
      ]
    },
    {
      "cell_type": "code",
      "execution_count": 9,
      "metadata": {
        "id": "plrdMIgw-nA6",
        "outputId": "38633202-ef9a-42c1-8496-0106e9e6aeb1",
        "colab": {
          "base_uri": "https://localhost:8080/"
        }
      },
      "outputs": [
        {
          "output_type": "execute_result",
          "data": {
            "text/plain": [
              "lxml.objectify.ObjectifiedElement"
            ]
          },
          "metadata": {},
          "execution_count": 9
        }
      ],
      "source": [
        "type(patient)"
      ]
    },
    {
      "cell_type": "code",
      "execution_count": 10,
      "metadata": {
        "id": "2zHdtfcH-nA6",
        "outputId": "a3c643bc-803f-4542-94bf-1272dcb5d17b",
        "colab": {
          "base_uri": "https://localhost:8080/"
        }
      },
      "outputs": [
        {
          "output_type": "stream",
          "name": "stdout",
          "text": [
            "{http://hl7.org/fhir}id : {'value': 'example'}\n",
            "{http://hl7.org/fhir}text : {}\n",
            "comment : {}\n",
            "{http://hl7.org/fhir}identifier : {}\n",
            "{http://hl7.org/fhir}active : {'value': 'true'}\n",
            "comment : {}\n",
            "{http://hl7.org/fhir}name : {}\n",
            "{http://hl7.org/fhir}name : {}\n",
            "{http://hl7.org/fhir}name : {}\n",
            "{http://hl7.org/fhir}telecom : {}\n",
            "{http://hl7.org/fhir}telecom : {}\n",
            "{http://hl7.org/fhir}telecom : {}\n",
            "{http://hl7.org/fhir}telecom : {}\n",
            "comment : {}\n",
            "{http://hl7.org/fhir}gender : {'value': 'male'}\n",
            "{http://hl7.org/fhir}birthDate : {'value': '1974-12-25'}\n",
            "{http://hl7.org/fhir}deceasedBoolean : {'value': 'false'}\n",
            "{http://hl7.org/fhir}address : {}\n",
            "{http://hl7.org/fhir}contact : {}\n",
            "{http://hl7.org/fhir}managingOrganization : {}\n"
          ]
        }
      ],
      "source": [
        "for child in patient.getchildren():\n",
        "    print(child.tag + \" : \" + str(child.attrib))"
      ]
    },
    {
      "cell_type": "code",
      "execution_count": 12,
      "metadata": {
        "id": "e4dijnOY-nA6",
        "outputId": "e27ae7c7-6fcb-406b-bef6-2c9fb4bc029e",
        "colab": {
          "base_uri": "https://localhost:8080/"
        }
      },
      "outputs": [
        {
          "output_type": "stream",
          "name": "stdout",
          "text": [
            "<?xml version=\"1.0\" encoding=\"UTF-8\"?>\n",
            "\n",
            "<Patient xmlns=\"http://hl7.org/fhir\">\n",
            "  <id value=\"example\"/> \n",
            "  <text> \n",
            "    <status value=\"generated\"/> \n",
            "    <div xmlns=\"http://www.w3.org/1999/xhtml\">\n",
            "      <table> \n",
            "        <tbody> \n",
            "          <tr> \n"
          ]
        }
      ],
      "source": [
        "%%bash\n",
        "head \"/content/patient.xml\""
      ]
    },
    {
      "cell_type": "markdown",
      "metadata": {
        "id": "fiIIXOgq-nA7"
      },
      "source": [
        "# XPath\n",
        "\n",
        "See https://docs.python.org/2/library/xml.etree.elementtree.html#xpath-support for more on XPath"
      ]
    },
    {
      "cell_type": "code",
      "execution_count": 13,
      "metadata": {
        "id": "z9zrcZeW-nA7",
        "outputId": "9cdd168d-e13e-44b7-de8e-6051bf5e7c86",
        "colab": {
          "base_uri": "https://localhost:8080/"
        }
      },
      "outputs": [
        {
          "output_type": "stream",
          "name": "stdout",
          "text": [
            "Address City: PleasantVille\n"
          ]
        }
      ],
      "source": [
        "ns={\"fhir\": \"http://hl7.org/fhir\"}\n",
        "\n",
        "for address in patient.findall('fhir:address', namespaces=ns):\n",
        "    city = address.find('fhir:city', namespaces=ns)\n",
        "    print(\"Address City: \" + city.attrib.get('value'))"
      ]
    },
    {
      "cell_type": "code",
      "execution_count": 14,
      "metadata": {
        "id": "denMaHIh-nA7",
        "outputId": "246a2703-ba28-45c3-e1c7-ccc7b8b979a0",
        "colab": {
          "base_uri": "https://localhost:8080/"
        }
      },
      "outputs": [
        {
          "output_type": "stream",
          "name": "stdout",
          "text": [
            "Phone Number: (03) 5555 6473\n",
            "Phone Number: (03) 3410 5613\n",
            "Phone Number: (03) 5555 8834\n"
          ]
        }
      ],
      "source": [
        "ns={\"fhir\": \"http://hl7.org/fhir\"}\n",
        "\n",
        "for telecom in patient.findall('fhir:telecom', namespaces=ns):\n",
        "    phone = telecom.find('fhir:value', namespaces=ns)\n",
        "    if phone is not None:\n",
        "        print(\"Phone Number: \" + phone.attrib.get('value'))"
      ]
    },
    {
      "cell_type": "code",
      "execution_count": null,
      "metadata": {
        "id": "-VZjEL3n-nA7"
      },
      "outputs": [],
      "source": []
    }
  ],
  "metadata": {
    "kernelspec": {
      "display_name": "Python 3",
      "language": "python",
      "name": "python3"
    },
    "language_info": {
      "codemirror_mode": {
        "name": "ipython",
        "version": 3
      },
      "file_extension": ".py",
      "mimetype": "text/x-python",
      "name": "python",
      "nbconvert_exporter": "python",
      "pygments_lexer": "ipython3",
      "version": "3.6.7"
    },
    "colab": {
      "provenance": []
    }
  },
  "nbformat": 4,
  "nbformat_minor": 0
}