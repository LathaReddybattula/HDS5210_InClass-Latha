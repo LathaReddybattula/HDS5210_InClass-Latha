{
  "cells": [
    {
      "cell_type": "markdown",
      "metadata": {
        "id": "6gXK3HVS0a4D"
      },
      "source": [
        "# Reading File Data"
      ]
    },
    {
      "cell_type": "code",
      "execution_count": 11,
      "metadata": {
        "id": "kHpnqklW0a4G",
        "outputId": "619eabc9-006d-48f8-c9ee-81b2ccb50331",
        "colab": {
          "base_uri": "https://localhost:8080/"
        }
      },
      "outputs": [
        {
          "output_type": "stream",
          "name": "stdout",
          "text": [
            "Hello World from a file!\n",
            "I'm saying \"hi!\"\n"
          ]
        }
      ],
      "source": [
        "f = open('hello.txt')\n",
        "hi = f.read()\n",
        "f.close()\n",
        "print(hi)"
      ]
    },
    {
      "cell_type": "code",
      "execution_count": 12,
      "metadata": {
        "id": "d1KW4veq0a4I",
        "outputId": "891d2d80-914f-4778-c32e-eb650cffeedc",
        "colab": {
          "base_uri": "https://localhost:8080/"
        }
      },
      "outputs": [
        {
          "output_type": "stream",
          "name": "stdout",
          "text": [
            "Hello World from a file!\n",
            "I'm saying \"hi!\"\n"
          ]
        }
      ],
      "source": [
        "with open('hello.txt') as f:\n",
        "    hi = f.read()\n",
        "\n",
        "print(hi)"
      ]
    },
    {
      "cell_type": "code",
      "execution_count": 13,
      "metadata": {
        "id": "phmgCyRG0a4I",
        "outputId": "b9a58f36-6289-4263-98c4-f6f67a28a587",
        "colab": {
          "base_uri": "https://localhost:8080/",
          "height": 145
        }
      },
      "outputs": [
        {
          "output_type": "error",
          "ename": "ValueError",
          "evalue": "I/O operation on closed file.",
          "traceback": [
            "\u001b[0;31m---------------------------------------------------------------------------\u001b[0m",
            "\u001b[0;31mValueError\u001b[0m                                Traceback (most recent call last)",
            "\u001b[0;32m<ipython-input-13-571e9fb02258>\u001b[0m in \u001b[0;36m<cell line: 1>\u001b[0;34m()\u001b[0m\n\u001b[0;32m----> 1\u001b[0;31m \u001b[0mf\u001b[0m\u001b[0;34m.\u001b[0m\u001b[0mread\u001b[0m\u001b[0;34m(\u001b[0m\u001b[0;34m)\u001b[0m\u001b[0;34m\u001b[0m\u001b[0;34m\u001b[0m\u001b[0m\n\u001b[0m",
            "\u001b[0;31mValueError\u001b[0m: I/O operation on closed file."
          ]
        }
      ],
      "source": [
        "f.read()"
      ]
    },
    {
      "cell_type": "code",
      "execution_count": 14,
      "metadata": {
        "id": "7NZgU7ui0a4J",
        "outputId": "01fea1ae-cc6b-43fc-a3d7-4f5e8bafc606",
        "colab": {
          "base_uri": "https://localhost:8080/"
        }
      },
      "outputs": [
        {
          "output_type": "stream",
          "name": "stdout",
          "text": [
            "hello-again.txt\n",
            "hello.txt\n",
            "module20-example.ipynb\n",
            "sample_data\n"
          ]
        }
      ],
      "source": [
        "%%bash\n",
        "ls"
      ]
    },
    {
      "cell_type": "code",
      "execution_count": null,
      "metadata": {
        "id": "JDFDksHv0a4J"
      },
      "outputs": [],
      "source": []
    },
    {
      "cell_type": "markdown",
      "metadata": {
        "id": "6a33Wyan0a4J"
      },
      "source": [
        "# Writing to Files"
      ]
    },
    {
      "cell_type": "code",
      "execution_count": 15,
      "metadata": {
        "id": "xUiCuzzs0a4J"
      },
      "outputs": [],
      "source": [
        "my_info = \"Hello New World!\"\n",
        "\n",
        "with open('hello-again.txt', 'w') as f:\n",
        "    f.write(my_info)"
      ]
    },
    {
      "cell_type": "code",
      "execution_count": 16,
      "metadata": {
        "id": "mK6GKqcR0a4J",
        "outputId": "d087742b-e01d-46c2-8705-ad25c9a11c2a",
        "colab": {
          "base_uri": "https://localhost:8080/"
        }
      },
      "outputs": [
        {
          "output_type": "stream",
          "name": "stdout",
          "text": [
            "Hello New World!"
          ]
        }
      ],
      "source": [
        "%%bash\n",
        "cat hello-again.txt"
      ]
    },
    {
      "cell_type": "code",
      "execution_count": null,
      "metadata": {
        "id": "EYT4R3x_0a4K"
      },
      "outputs": [],
      "source": []
    },
    {
      "cell_type": "markdown",
      "metadata": {
        "id": "gQXq8ND10a4K"
      },
      "source": [
        "# Notebook X-Ray Vision"
      ]
    },
    {
      "cell_type": "code",
      "execution_count": 16,
      "metadata": {
        "id": "GFmNLPFb0a4K"
      },
      "outputs": [],
      "source": []
    },
    {
      "cell_type": "code",
      "execution_count": 18,
      "metadata": {
        "scrolled": false,
        "id": "tkAMP_TQ0a4K",
        "outputId": "3e1c0aec-c1f5-4612-f477-3b5813af9f7d",
        "colab": {
          "base_uri": "https://localhost:8080/"
        }
      },
      "outputs": [
        {
          "output_type": "stream",
          "name": "stdout",
          "text": [
            "{\n",
            " \"cells\": [\n",
            "  {\n",
            "   \"cell_type\": \"markdown\",\n",
            "   \"metadata\": {},\n",
            "   \"source\": [\n",
            "    \"# Reading File Data\"\n",
            "   ]\n",
            "  },\n",
            "  {\n",
            "   \"cell_type\": \"code\",\n",
            "   \"execution_count\": 1,\n",
            "   \"metadata\": {},\n",
            "   \"outputs\": [\n",
            "    {\n",
            "     \"name\": \"stdout\",\n",
            "     \"output_type\": \"stream\",\n",
            "     \"text\": [\n",
            "      \"Hello World from a file!\\n\",\n",
            "      \"I'm saying \\\"hi!\\\"\\n\"\n",
            "     ]\n",
            "    }\n",
            "   ],\n",
            "   \"source\": [\n",
            "    \"f = open('hello.txt')\\n\",\n",
            "    \"hi = f.read()\\n\",\n",
            "    \"f.close()\\n\",\n",
            "    \"print(hi)\"\n",
            "   ]\n",
            "  },\n",
            "  {\n",
            "   \"cell_type\": \"code\",\n",
            "   \"execution_count\": 2,\n",
            "   \"metadata\": {},\n",
            "   \"outputs\": [\n",
            "    {\n",
            "     \"name\": \"stdout\",\n",
            "     \"output_type\": \"stream\",\n",
            "     \"text\": [\n",
            "      \"Hello World from a file!\\n\",\n",
            "      \"I'm saying \\\"hi!\\\"\\n\"\n",
            "     ]\n",
            "    }\n",
            "   ],\n",
            "   \"source\": [\n",
            "    \"with open('hello.txt') as f:\\n\",\n",
            "    \"    hi = f.read()\\n\",\n",
            "    \"\\n\",\n",
            "    \"print(hi)\"\n",
            "   ]\n",
            "  },\n",
            "  {\n",
            "   \"cell_type\": \"code\",\n",
            "   \"execution_count\": 3,\n",
            "   \"metadata\": {},\n",
            "   \"outputs\": [\n",
            "    {\n",
            "     \"ename\": \"ValueError\",\n",
            "     \"evalue\": \"I/O operation on closed file.\",\n",
            "     \"output_type\": \"error\",\n",
            "     \"traceback\": [\n",
            "      \"\\u001b[0;31m---------------------------------------------------------------------------\\u001b[0m\",\n",
            "      \"\\u001b[0;31mValueError\\u001b[0m                                Traceback (most recent call last)\",\n",
            "      \"\\u001b[0;32m<ipython-input-3-571e9fb02258>\\u001b[0m in \\u001b[0;36m<module>\\u001b[0;34m\\u001b[0m\\n\\u001b[0;32m----> 1\\u001b[0;31m \\u001b[0mf\\u001b[0m\\u001b[0;34m.\\u001b[0m\\u001b[0mread\\u001b[0m\\u001b[0;34m(\\u001b[0m\\u001b[0;34m)\\u001b[0m\\u001b[0;34m\\u001b[0m\\u001b[0;34m\\u001b[0m\\u001b[0m\\n\\u001b[0m\",\n",
            "      \"\\u001b[0;31mValueError\\u001b[0m: I/O operation on closed file.\"\n",
            "     ]\n",
            "    }\n",
            "   ],\n",
            "   \"source\": [\n",
            "    \"f.read()\"\n",
            "   ]\n",
            "  },\n",
            "  {\n",
            "   \"cell_type\": \"code\",\n",
            "   \"execution_count\": null,\n",
            "   \"metadata\": {},\n",
            "   \"outputs\": [],\n",
            "   \"source\": [\n",
            "    \"%%bash\\n\",\n",
            "    \"ls\"\n",
            "   ]\n",
            "  },\n",
            "  {\n",
            "   \"cell_type\": \"code\",\n",
            "   \"execution_count\": null,\n",
            "   \"metadata\": {},\n",
            "   \"outputs\": [],\n",
            "   \"source\": []\n",
            "  },\n",
            "  {\n",
            "   \"cell_type\": \"markdown\",\n",
            "   \"metadata\": {},\n",
            "   \"source\": [\n",
            "    \"# Writing to Files\"\n",
            "   ]\n",
            "  },\n",
            "  {\n",
            "   \"cell_type\": \"code\",\n",
            "   \"execution_count\": 4,\n",
            "   \"metadata\": {},\n",
            "   \"outputs\": [],\n",
            "   \"source\": [\n",
            "    \"my_info = \\\"Hello New World!\\\"\\n\",\n",
            "    \"\\n\",\n",
            "    \"with open('hello-again.txt', 'w') as f:\\n\",\n",
            "    \"    f.write(my_info)\"\n",
            "   ]\n",
            "  },\n",
            "  {\n",
            "   \"cell_type\": \"code\",\n",
            "   \"execution_count\": null,\n",
            "   \"metadata\": {},\n",
            "   \"outputs\": [],\n",
            "   \"source\": [\n",
            "    \"%%bash\\n\",\n",
            "    \"cat hello-again.txt\"\n",
            "   ]\n",
            "  },\n",
            "  {\n",
            "   \"cell_type\": \"code\",\n",
            "   \"execution_count\": null,\n",
            "   \"metadata\": {},\n",
            "   \"outputs\": [],\n",
            "   \"source\": []\n",
            "  },\n",
            "  {\n",
            "   \"cell_type\": \"markdown\",\n",
            "   \"metadata\": {},\n",
            "   \"source\": [\n",
            "    \"# Notebook X-Ray Vision\"\n",
            "   ]\n",
            "  },\n",
            "  {\n",
            "   \"cell_type\": \"code\",\n",
            "   \"execution_count\": null,\n",
            "   \"metadata\": {},\n",
            "   \"outputs\": [],\n",
            "   \"source\": []\n",
            "  },\n",
            "  {\n",
            "   \"cell_type\": \"code\",\n",
            "   \"execution_count\": null,\n",
            "   \"metadata\": {\n",
            "    \"scrolled\": false\n",
            "   },\n",
            "   \"outputs\": [],\n",
            "   \"source\": [\n",
            "    \"with open('module26-example.ipynb') as f:\\n\",\n",
            "    \"    nb = f.read()\\n\",\n",
            "    \"\\n\",\n",
            "    \"print(nb)\"\n",
            "   ]\n",
            "  },\n",
            "  {\n",
            "   \"cell_type\": \"code\",\n",
            "   \"execution_count\": null,\n",
            "   \"metadata\": {},\n",
            "   \"outputs\": [],\n",
            "   \"source\": []\n",
            "  }\n",
            " ],\n",
            " \"metadata\": {\n",
            "  \"kernelspec\": {\n",
            "   \"display_name\": \"Python 3\",\n",
            "   \"language\": \"python\",\n",
            "   \"name\": \"python3\"\n",
            "  },\n",
            "  \"language_info\": {\n",
            "   \"codemirror_mode\": {\n",
            "    \"name\": \"ipython\",\n",
            "    \"version\": 3\n",
            "   },\n",
            "   \"file_extension\": \".py\",\n",
            "   \"mimetype\": \"text/x-python\",\n",
            "   \"name\": \"python\",\n",
            "   \"nbconvert_exporter\": \"python\",\n",
            "   \"pygments_lexer\": \"ipython3\",\n",
            "   \"version\": \"3.6.7\"\n",
            "  }\n",
            " },\n",
            " \"nbformat\": 4,\n",
            " \"nbformat_minor\": 2\n",
            "}\n",
            "\n"
          ]
        }
      ],
      "source": [
        "with open('module20-example.ipynb') as f:\n",
        "    nb = f.read()\n",
        "\n",
        "print(nb)"
      ]
    },
    {
      "cell_type": "code",
      "execution_count": null,
      "metadata": {
        "id": "rxN-aQTU0a4K"
      },
      "outputs": [],
      "source": []
    }
  ],
  "metadata": {
    "kernelspec": {
      "display_name": "Python 3",
      "language": "python",
      "name": "python3"
    },
    "language_info": {
      "codemirror_mode": {
        "name": "ipython",
        "version": 3
      },
      "file_extension": ".py",
      "mimetype": "text/x-python",
      "name": "python",
      "nbconvert_exporter": "python",
      "pygments_lexer": "ipython3",
      "version": "3.6.7"
    },
    "colab": {
      "provenance": []
    }
  },
  "nbformat": 4,
  "nbformat_minor": 0
}