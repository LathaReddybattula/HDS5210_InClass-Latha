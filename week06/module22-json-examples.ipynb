{
  "cells": [
    {
      "cell_type": "markdown",
      "metadata": {
        "id": "AUGs8yw00tvO"
      },
      "source": [
        "# The json module"
      ]
    },
    {
      "cell_type": "code",
      "execution_count": 1,
      "metadata": {
        "id": "xGp_LTh30tvQ"
      },
      "outputs": [],
      "source": [
        "import json"
      ]
    },
    {
      "cell_type": "code",
      "execution_count": 2,
      "metadata": {
        "id": "axDAz1UR0tvR"
      },
      "outputs": [],
      "source": [
        "family = '{\"Lester-Boal\": [\"Paul\", \"Ada\", \"Teddy\"]}'"
      ]
    },
    {
      "cell_type": "code",
      "execution_count": 3,
      "metadata": {
        "id": "IBlKLc_i0tvR",
        "outputId": "48563ea8-919c-44ef-9c8e-c8ca5a946725",
        "colab": {
          "base_uri": "https://localhost:8080/",
          "height": 36
        }
      },
      "outputs": [
        {
          "output_type": "execute_result",
          "data": {
            "text/plain": [
              "'{\"Lester-Boal\": [\"Paul\", \"Ada\", \"Teddy\"]}'"
            ],
            "application/vnd.google.colaboratory.intrinsic+json": {
              "type": "string"
            }
          },
          "metadata": {},
          "execution_count": 3
        }
      ],
      "source": [
        "family"
      ]
    },
    {
      "cell_type": "code",
      "execution_count": 4,
      "metadata": {
        "id": "AF56N_n40tvR",
        "outputId": "eb823718-cf9c-420c-b8d0-891c352a98bd",
        "colab": {
          "base_uri": "https://localhost:8080/"
        }
      },
      "outputs": [
        {
          "output_type": "execute_result",
          "data": {
            "text/plain": [
              "{'Lester-Boal': ['Paul', 'Ada', 'Teddy']}"
            ]
          },
          "metadata": {},
          "execution_count": 4
        }
      ],
      "source": [
        "json.loads(family)"
      ]
    },
    {
      "cell_type": "code",
      "execution_count": 5,
      "metadata": {
        "id": "krlXczOD0tvR"
      },
      "outputs": [],
      "source": [
        "f = json.loads(family)"
      ]
    },
    {
      "cell_type": "code",
      "execution_count": 6,
      "metadata": {
        "id": "c_5YfsmK0tvR",
        "outputId": "500e75b8-e653-43ad-ce55-b592dcee93ee",
        "colab": {
          "base_uri": "https://localhost:8080/"
        }
      },
      "outputs": [
        {
          "output_type": "execute_result",
          "data": {
            "text/plain": [
              "dict"
            ]
          },
          "metadata": {},
          "execution_count": 6
        }
      ],
      "source": [
        "type(f)"
      ]
    },
    {
      "cell_type": "code",
      "execution_count": 7,
      "metadata": {
        "id": "mJF3Mg3s0tvS",
        "outputId": "b2a21201-b7e6-4be5-df14-d8ef9c197762",
        "colab": {
          "base_uri": "https://localhost:8080/"
        }
      },
      "outputs": [
        {
          "output_type": "execute_result",
          "data": {
            "text/plain": [
              "list"
            ]
          },
          "metadata": {},
          "execution_count": 7
        }
      ],
      "source": [
        "type(f.get('Lester-Boal'))"
      ]
    },
    {
      "cell_type": "code",
      "execution_count": null,
      "metadata": {
        "id": "GWshwS5f0tvS"
      },
      "outputs": [],
      "source": []
    },
    {
      "cell_type": "markdown",
      "metadata": {
        "id": "soHYYAHd0tvS"
      },
      "source": [
        "# Hospitals Example"
      ]
    },
    {
      "cell_type": "code",
      "execution_count": 14,
      "metadata": {
        "id": "yrtK6hJo0tvS"
      },
      "outputs": [],
      "source": [
        "import json\n",
        "from pathlib import Path\n",
        "HOSPITAL_FILE=\"/content/hospitals_json\""
      ]
    },
    {
      "cell_type": "code",
      "execution_count": 15,
      "metadata": {
        "id": "0kOyhhJX0tvS"
      },
      "outputs": [],
      "source": [
        "systems = json.load(open(HOSPITAL_FILE))"
      ]
    },
    {
      "cell_type": "code",
      "execution_count": 16,
      "metadata": {
        "id": "ddZ8jZr50tvT",
        "outputId": "35937787-7fe6-443c-b42d-3be8d0a43c33",
        "colab": {
          "base_uri": "https://localhost:8080/"
        }
      },
      "outputs": [
        {
          "output_type": "execute_result",
          "data": {
            "text/plain": [
              "[{'System': 'BJC',\n",
              "  'Hospitals': [{'Beds': 1432, 'Hospital': 'BJH', 'City': 'St. Louis'},\n",
              "   {'Beds': 1107, 'Hospital': 'MOBap', 'City': 'Creve Coeur'}]},\n",
              " {'System': 'SSM',\n",
              "  'Hospitals': [{'Beds': 965, 'Hospital': 'SLUH', 'City': 'St. Louis'}]},\n",
              " {'System': 'Mercy',\n",
              "  'Hospitals': [{'Beds': 983,\n",
              "    'Hospital': 'Mercy STL',\n",
              "    'City': 'Creve Coeur'}]}]"
            ]
          },
          "metadata": {},
          "execution_count": 16
        }
      ],
      "source": [
        "systems"
      ]
    },
    {
      "cell_type": "code",
      "execution_count": 17,
      "metadata": {
        "id": "WX1LhkB00tvT",
        "outputId": "1fe10825-5fc2-4503-8501-6760d26def79",
        "colab": {
          "base_uri": "https://localhost:8080/"
        }
      },
      "outputs": [
        {
          "output_type": "execute_result",
          "data": {
            "text/plain": [
              "{'System': 'BJC',\n",
              " 'Hospitals': [{'Beds': 1432, 'Hospital': 'BJH', 'City': 'St. Louis'},\n",
              "  {'Beds': 1107, 'Hospital': 'MOBap', 'City': 'Creve Coeur'}]}"
            ]
          },
          "metadata": {},
          "execution_count": 17
        }
      ],
      "source": [
        "systems[0]"
      ]
    },
    {
      "cell_type": "code",
      "execution_count": 18,
      "metadata": {
        "id": "d_fF1GXG0tvU",
        "outputId": "c7acfd08-cc89-4787-93b1-1748d5dc8b7c",
        "colab": {
          "base_uri": "https://localhost:8080/"
        }
      },
      "outputs": [
        {
          "output_type": "stream",
          "name": "stdout",
          "text": [
            "Hospital BJH has 1432\n",
            "Hospital MOBap has 1107\n",
            "Hospital SLUH has 965\n",
            "Hospital Mercy STL has 983\n",
            "4487\n"
          ]
        }
      ],
      "source": [
        "total_beds = 0\n",
        "\n",
        "for system in systems:\n",
        "    hospitals = system.get('Hospitals')\n",
        "    for hospital in hospitals:\n",
        "        print(f\"Hospital {hospital.get('Hospital')} has {hospital.get('Beds')}\")\n",
        "        total_beds += hospital.get('Beds')\n",
        "\n",
        "print(total_beds)"
      ]
    },
    {
      "cell_type": "code",
      "execution_count": 19,
      "metadata": {
        "id": "v0caCc7E0tvU",
        "outputId": "e93a64d0-cb76-494b-b7f4-e6400ad0c1ac",
        "colab": {
          "base_uri": "https://localhost:8080/"
        }
      },
      "outputs": [
        {
          "output_type": "stream",
          "name": "stdout",
          "text": [
            "BJH is in St. Louis and has 1432 beds\n",
            "MOBap is in Creve Coeur and has 1107 beds\n",
            "SLUH is in St. Louis and has 965 beds\n",
            "Mercy STL is in Creve Coeur and has 983 beds\n",
            "{'St. Louis': 2397, 'Creve Coeur': 2090}\n"
          ]
        }
      ],
      "source": [
        "beds_per_city = {}\n",
        "\n",
        "for system in systems:\n",
        "    for hospital in system.get('Hospitals'):\n",
        "        city = hospital.get('City')\n",
        "        beds = hospital.get('Beds')\n",
        "        beds_per_city.setdefault(city, 0)\n",
        "        print(f\"{hospital.get('Hospital')} is in {city} and has {beds} beds\")\n",
        "        beds_per_city[city] += beds\n",
        "\n",
        "print(beds_per_city)"
      ]
    },
    {
      "cell_type": "markdown",
      "metadata": {
        "id": "K8sbU66j0tvU"
      },
      "source": [
        "```\n",
        "{\n",
        "  \"St. Louis\": 2397,\n",
        "  \"Creve Coeur\": 2090\n",
        "}\n",
        "```"
      ]
    },
    {
      "cell_type": "code",
      "execution_count": 20,
      "metadata": {
        "id": "8kpFjlAg0tvV",
        "outputId": "ac85d344-2ef1-4a1f-b1f7-2f9f7a9659ef",
        "colab": {
          "base_uri": "https://localhost:8080/"
        }
      },
      "outputs": [
        {
          "output_type": "stream",
          "name": "stdout",
          "text": [
            "{\n",
            "    \"St. Louis\": 2397,\n",
            "    \"Creve Coeur\": 2090\n",
            "}\n"
          ]
        }
      ],
      "source": [
        "print(json.dumps(beds_per_city, indent=4))"
      ]
    },
    {
      "cell_type": "code",
      "execution_count": 21,
      "metadata": {
        "id": "JrMsrWj-0tvV",
        "outputId": "43c6cae9-e2a2-4be5-e2ab-0f237f117232",
        "colab": {
          "base_uri": "https://localhost:8080/"
        }
      },
      "outputs": [
        {
          "output_type": "stream",
          "name": "stdout",
          "text": [
            "[\n",
            "    {\n",
            "        \"System\": \"BJC\",\n",
            "        \"Hospitals\": [\n",
            "            {\n",
            "                \"Beds\": 1432,\n",
            "                \"Hospital\": \"BJH\",\n",
            "                \"City\": \"St. Louis\"\n",
            "            },\n",
            "            {\n",
            "                \"Beds\": 1107,\n",
            "                \"Hospital\": \"MOBap\",\n",
            "                \"City\": \"Creve Coeur\"\n",
            "            }\n",
            "        ]\n",
            "    },\n",
            "    {\n",
            "        \"System\": \"SSM\",\n",
            "        \"Hospitals\": [\n",
            "            {\n",
            "                \"Beds\": 965,\n",
            "                \"Hospital\": \"SLUH\",\n",
            "                \"City\": \"St. Louis\"\n",
            "            }\n",
            "        ]\n",
            "    },\n",
            "    {\n",
            "        \"System\": \"Mercy\",\n",
            "        \"Hospitals\": [\n",
            "            {\n",
            "                \"Beds\": 983,\n",
            "                \"Hospital\": \"Mercy STL\",\n",
            "                \"City\": \"Creve Coeur\"\n",
            "            }\n",
            "        ]\n",
            "    }\n",
            "]\n"
          ]
        }
      ],
      "source": [
        "print(json.dumps(systems, indent=4))"
      ]
    },
    {
      "cell_type": "markdown",
      "metadata": {
        "id": "F_e0p-Cp0tvV"
      },
      "source": [
        "# Loading JSON from a file"
      ]
    },
    {
      "cell_type": "code",
      "execution_count": 22,
      "metadata": {
        "id": "DBbift2G0tvV"
      },
      "outputs": [],
      "source": [
        "PATIENT_FILE='/content/hospitals_json'\n",
        "\n",
        "with open(PATIENT_FILE) as f:\n",
        "    patient = json.load(f)"
      ]
    },
    {
      "cell_type": "code",
      "execution_count": 23,
      "metadata": {
        "id": "jx9C-kZb0tvV",
        "outputId": "a359990f-21c9-4f7a-87f3-a66bd4e29ab7",
        "colab": {
          "base_uri": "https://localhost:8080/"
        }
      },
      "outputs": [
        {
          "output_type": "execute_result",
          "data": {
            "text/plain": [
              "list"
            ]
          },
          "metadata": {},
          "execution_count": 23
        }
      ],
      "source": [
        "type(patient)"
      ]
    },
    {
      "cell_type": "code",
      "execution_count": 24,
      "metadata": {
        "id": "SG10Xl4h0tvW",
        "outputId": "dd1b9af9-66db-4693-a860-939de39d9953",
        "colab": {
          "base_uri": "https://localhost:8080/"
        }
      },
      "outputs": [
        {
          "output_type": "execute_result",
          "data": {
            "text/plain": [
              "[{'System': 'BJC',\n",
              "  'Hospitals': [{'Beds': 1432, 'Hospital': 'BJH', 'City': 'St. Louis'},\n",
              "   {'Beds': 1107, 'Hospital': 'MOBap', 'City': 'Creve Coeur'}]},\n",
              " {'System': 'SSM',\n",
              "  'Hospitals': [{'Beds': 965, 'Hospital': 'SLUH', 'City': 'St. Louis'}]},\n",
              " {'System': 'Mercy',\n",
              "  'Hospitals': [{'Beds': 983,\n",
              "    'Hospital': 'Mercy STL',\n",
              "    'City': 'Creve Coeur'}]}]"
            ]
          },
          "metadata": {},
          "execution_count": 24
        }
      ],
      "source": [
        "patient"
      ]
    },
    {
      "cell_type": "code",
      "execution_count": 25,
      "metadata": {
        "id": "mtxeeJPj0tvW",
        "outputId": "d4adf972-83e1-40af-ae57-dad52b8c79d7",
        "colab": {
          "base_uri": "https://localhost:8080/"
        }
      },
      "outputs": [
        {
          "output_type": "stream",
          "name": "stdout",
          "text": [
            "[\n",
            "    {\n",
            "        \"System\": \"BJC\",\n",
            "        \"Hospitals\": [\n",
            "            {\n",
            "                \"Beds\": 1432,\n",
            "                \"Hospital\": \"BJH\",\n",
            "                \"City\": \"St. Louis\"\n",
            "            },\n",
            "            {\n",
            "                \"Beds\": 1107,\n",
            "                \"Hospital\": \"MOBap\",\n",
            "                \"City\": \"Creve Coeur\"\n",
            "            }\n",
            "        ]\n",
            "    },\n",
            "    {\n",
            "        \"System\": \"SSM\",\n",
            "        \"Hospitals\": [\n",
            "            {\n",
            "                \"Beds\": 965,\n",
            "                \"Hospital\": \"SLUH\",\n",
            "                \"City\": \"St. Louis\"\n",
            "            }\n",
            "        ]\n",
            "    },\n",
            "    {\n",
            "        \"System\": \"Mercy\",\n",
            "        \"Hospitals\": [\n",
            "            {\n",
            "                \"Beds\": 983,\n",
            "                \"Hospital\": \"Mercy STL\",\n",
            "                \"City\": \"Creve Coeur\"\n",
            "            }\n",
            "        ]\n",
            "    }\n",
            "]\n"
          ]
        }
      ],
      "source": [
        "print(json.dumps(patient, indent=4))"
      ]
    },
    {
      "cell_type": "code",
      "execution_count": 30,
      "metadata": {
        "id": "nVQJjv-w0tvW",
        "outputId": "aaee8aa1-9244-49da-8c9e-74ee82ae152e",
        "colab": {
          "base_uri": "https://localhost:8080/",
          "height": 145
        }
      },
      "outputs": [
        {
          "output_type": "error",
          "ename": "AttributeError",
          "evalue": "'list' object has no attribute 'get'",
          "traceback": [
            "\u001b[0;31m---------------------------------------------------------------------------\u001b[0m",
            "\u001b[0;31mAttributeError\u001b[0m                            Traceback (most recent call last)",
            "\u001b[0;32m<ipython-input-30-bbc18a602c2d>\u001b[0m in \u001b[0;36m<cell line: 1>\u001b[0;34m()\u001b[0m\n\u001b[0;32m----> 1\u001b[0;31m \u001b[0mpatient\u001b[0m\u001b[0;34m.\u001b[0m\u001b[0mget\u001b[0m\u001b[0;34m(\u001b[0m\u001b[0;34m'resourceType'\u001b[0m\u001b[0;34m)\u001b[0m\u001b[0;34m\u001b[0m\u001b[0;34m\u001b[0m\u001b[0m\n\u001b[0m",
            "\u001b[0;31mAttributeError\u001b[0m: 'list' object has no attribute 'get'"
          ]
        }
      ],
      "source": [
        "patient.get('resourceType')"
      ]
    },
    {
      "cell_type": "code",
      "execution_count": null,
      "metadata": {
        "id": "N_9C-BYt0tvW"
      },
      "outputs": [],
      "source": []
    },
    {
      "cell_type": "markdown",
      "metadata": {
        "id": "vNkQS30O0tvW"
      },
      "source": [
        "# Practical Example\n",
        "\n",
        "Let's get all the phone numbers from the patient JSON file.\n"
      ]
    },
    {
      "cell_type": "code",
      "execution_count": null,
      "metadata": {
        "id": "R1GJb14X0tvW",
        "outputId": "0a3984ec-c660-4c1b-9dbd-4afea2f0f9fa"
      },
      "outputs": [
        {
          "data": {
            "text/plain": [
              "[{'use': 'home'},\n",
              " {'system': 'phone', 'value': '(03) 5555 6473', 'use': 'work', 'rank': 1},\n",
              " {'system': 'phone', 'value': '(03) 3410 5613', 'use': 'mobile', 'rank': 2},\n",
              " {'system': 'phone',\n",
              "  'value': '(03) 5555 8834',\n",
              "  'use': 'old',\n",
              "  'period': {'end': '2014'}}]"
            ]
          },
          "execution_count": 16,
          "metadata": {},
          "output_type": "execute_result"
        }
      ],
      "source": [
        "patient.get('telecom')"
      ]
    },
    {
      "cell_type": "code",
      "execution_count": null,
      "metadata": {
        "id": "_qjLNr-50tvX"
      },
      "outputs": [],
      "source": [
        "numbers = patient.get('telecom')"
      ]
    },
    {
      "cell_type": "code",
      "execution_count": null,
      "metadata": {
        "id": "JfJusPAj0tvX"
      },
      "outputs": [],
      "source": [
        "numbers = patient.get('telecom')\n",
        "active_numbers = []\n",
        "\n",
        "for value in numbers:\n",
        "    if value.get('system') == 'phone' and value.get('use') != 'old':\n",
        "        active_numbers.append(value.get('value'))"
      ]
    },
    {
      "cell_type": "code",
      "execution_count": null,
      "metadata": {
        "id": "y0d1l5PC0tvX",
        "outputId": "0506f188-62f6-4961-8bda-902dd7f61ae3"
      },
      "outputs": [
        {
          "data": {
            "text/plain": [
              "['(03) 5555 6473', '(03) 3410 5613']"
            ]
          },
          "execution_count": 19,
          "metadata": {},
          "output_type": "execute_result"
        }
      ],
      "source": [
        "active_numbers"
      ]
    },
    {
      "cell_type": "code",
      "execution_count": null,
      "metadata": {
        "id": "tU8g55HZ0tvY"
      },
      "outputs": [],
      "source": [
        "patient.get('contact')[0].get('telecom')[0].get('value')"
      ]
    },
    {
      "cell_type": "code",
      "execution_count": null,
      "metadata": {
        "id": "mxCzhwg00tvY"
      },
      "outputs": [],
      "source": []
    },
    {
      "cell_type": "markdown",
      "metadata": {
        "id": "YRVZruzY0tvY"
      },
      "source": [
        "# Whiteriver.json"
      ]
    },
    {
      "cell_type": "code",
      "execution_count": null,
      "metadata": {
        "id": "B977fRGB0tvY"
      },
      "outputs": [],
      "source": [
        "import json\n",
        "wr = open('/data/whiteriver.json')\n",
        "pricing = json.load(wr)"
      ]
    },
    {
      "cell_type": "code",
      "execution_count": null,
      "metadata": {
        "id": "LIuBJEA60tvZ",
        "outputId": "eeb67e3a-305f-4038-dd33-487e2b831fb5"
      },
      "outputs": [
        {
          "data": {
            "text/plain": [
              "dict_keys(['HospitalorFacilityName', 'PricesPostedandEffective', 'Notes', 'StandardCharges'])"
            ]
          },
          "execution_count": 23,
          "metadata": {},
          "output_type": "execute_result"
        }
      ],
      "source": [
        "pricing['root'].keys()"
      ]
    },
    {
      "cell_type": "code",
      "execution_count": null,
      "metadata": {
        "id": "IuTQF7mh0tvZ"
      },
      "outputs": [],
      "source": [
        "charges = pricing['root']['StandardCharges']"
      ]
    },
    {
      "cell_type": "code",
      "execution_count": null,
      "metadata": {
        "id": "jhnvGFGr0tvZ"
      },
      "outputs": [],
      "source": [
        "procedures = set()\n",
        "for charge in charges:\n",
        "    procedures.add(charge['ProcedureCode'])"
      ]
    },
    {
      "cell_type": "code",
      "execution_count": null,
      "metadata": {
        "id": "CdDHtTMh0tvZ",
        "outputId": "055e9b0e-e10a-4dfb-f33b-1e290f298c40"
      },
      "outputs": [
        {
          "data": {
            "text/plain": [
              "100"
            ]
          },
          "execution_count": 27,
          "metadata": {},
          "output_type": "execute_result"
        }
      ],
      "source": [
        "len(procedures)"
      ]
    },
    {
      "cell_type": "code",
      "execution_count": null,
      "metadata": {
        "id": "A8vmYhqj0tva"
      },
      "outputs": [],
      "source": [
        "pcts = []\n",
        "\n",
        "for charge in charges:\n",
        "    aetna = float(charge.get('AETNA_Outpatient'))\n",
        "    qualchoice = float(charge.get('QUALCHOICE_Outpatient'))\n",
        "    pct_higher = aetna / qualchoice\n",
        "    pcts.append(pct_higher)\n",
        "\n"
      ]
    },
    {
      "cell_type": "code",
      "execution_count": null,
      "metadata": {
        "id": "RlmjzoPA0tva",
        "outputId": "97873566-6ef0-479f-e0bb-e8e1cdf099eb"
      },
      "outputs": [
        {
          "data": {
            "text/plain": [
              "[1.5714285714285716,\n",
              " 1.5714285714285714,\n",
              " 1.5714285714285714,\n",
              " 1.5714285714285716,\n",
              " 1.5714285714285714,\n",
              " 1.5714285714285716,\n",
              " 1.5714285714285716,\n",
              " 1.5714285714285716,\n",
              " 1.5714285714285716,\n",
              " 1.5714285714285716,\n",
              " 1.5714285714285716,\n",
              " 1.5714285714285716,\n",
              " 1.5714285714285714,\n",
              " 1.5714285714285714,\n",
              " 1.5714285714285714,\n",
              " 1.5714285714285716,\n",
              " 1.5714285714285714,\n",
              " 1.5714285714285714,\n",
              " 1.5714285714285716,\n",
              " 1.5714285714285716,\n",
              " 1.5714285714285716,\n",
              " 1.5714285714285712,\n",
              " 1.5714285714285716,\n",
              " 1.5714285714285714,\n",
              " 1.5714285714285714,\n",
              " 1.5714285714285716,\n",
              " 1.5714285714285714,\n",
              " 1.5714285714285714,\n",
              " 1.5714285714285714,\n",
              " 1.5714285714285714,\n",
              " 1.5714285714285714,\n",
              " 1.5714285714285714,\n",
              " 1.5714285714285712,\n",
              " 1.5714285714285712,\n",
              " 1.5714285714285714,\n",
              " 1.5714285714285712,\n",
              " 1.5714285714285712,\n",
              " 1.5714285714285714,\n",
              " 1.5714285714285714,\n",
              " 1.5714285714285714,\n",
              " 1.5714285714285714,\n",
              " 1.5714285714285716,\n",
              " 1.5714285714285714,\n",
              " 1.5714285714285716,\n",
              " 1.5714285714285716,\n",
              " 1.5714285714285714,\n",
              " 1.5714285714285714,\n",
              " 1.5714285714285714,\n",
              " 1.5714285714285714,\n",
              " 1.5714285714285714,\n",
              " 1.5714285714285714,\n",
              " 1.5714285714285714,\n",
              " 1.5714285714285714,\n",
              " 1.5714285714285714,\n",
              " 1.5714285714285714,\n",
              " 1.5714285714285716,\n",
              " 1.5714285714285716,\n",
              " 1.5714285714285714,\n",
              " 1.5714285714285714,\n",
              " 1.5714285714285714,\n",
              " 1.5714285714285714,\n",
              " 1.5714285714285714,\n",
              " 1.5714285714285714,\n",
              " 1.5714285714285716,\n",
              " 1.5714285714285714,\n",
              " 1.5714285714285714,\n",
              " 1.5714285714285714,\n",
              " 1.5714285714285714,\n",
              " 1.5714285714285716,\n",
              " 1.5714285714285712,\n",
              " 1.5714285714285716,\n",
              " 1.5714285714285714,\n",
              " 1.5714285714285716,\n",
              " 1.5714285714285712,\n",
              " 1.5714285714285714,\n",
              " 1.5714285714285714,\n",
              " 1.5714285714285714,\n",
              " 1.5714285714285714,\n",
              " 1.5714285714285714,\n",
              " 1.5714285714285714,\n",
              " 1.5714285714285714,\n",
              " 1.5714285714285714,\n",
              " 1.5714285714285716,\n",
              " 1.5714285714285714,\n",
              " 1.5714285714285716,\n",
              " 1.5714285714285714,\n",
              " 1.5714285714285714,\n",
              " 1.5714285714285714,\n",
              " 1.5714285714285714,\n",
              " 1.5714285714285714,\n",
              " 1.5714285714285712,\n",
              " 1.5714285714285714,\n",
              " 1.5714285714285712,\n",
              " 1.5714285714285714,\n",
              " 1.5714285714285714,\n",
              " 1.5714285714285714,\n",
              " 1.5714285714285714,\n",
              " 1.5714285714285712,\n",
              " 1.5714285714285714,\n",
              " 1.5714285714285714]"
            ]
          },
          "execution_count": 32,
          "metadata": {},
          "output_type": "execute_result"
        }
      ],
      "source": [
        "pcts"
      ]
    },
    {
      "cell_type": "code",
      "execution_count": null,
      "metadata": {
        "id": "r6ufh3360tva"
      },
      "outputs": [],
      "source": []
    }
  ],
  "metadata": {
    "kernelspec": {
      "display_name": "Python 3",
      "language": "python",
      "name": "python3"
    },
    "language_info": {
      "codemirror_mode": {
        "name": "ipython",
        "version": 3
      },
      "file_extension": ".py",
      "mimetype": "text/x-python",
      "name": "python",
      "nbconvert_exporter": "python",
      "pygments_lexer": "ipython3",
      "version": "3.6.7"
    },
    "colab": {
      "provenance": []
    }
  },
  "nbformat": 4,
  "nbformat_minor": 0
}