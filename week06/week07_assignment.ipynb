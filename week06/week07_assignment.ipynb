{
  "cells": [
    {
      "cell_type": "markdown",
      "metadata": {
        "id": "view-in-github",
        "colab_type": "text"
      },
      "source": [
        "<a href=\"https://colab.research.google.com/github/LathaReddybattula/HDS5210_InClass-Latha/blob/master/week06/week07_assignment.ipynb\" target=\"_parent\"><img src=\"https://colab.research.google.com/assets/colab-badge.svg\" alt=\"Open In Colab\"/></a>"
      ]
    },
    {
      "cell_type": "markdown",
      "metadata": {
        "id": "5uV-sn6_G0je"
      },
      "source": [
        "# Week 7 Assignment\n",
        "\n",
        "We've been working with different types of data structures in Python (dictionary, list, etc), how those are represented in JSON documents, and how to write code to access specific data elements. In this week's assignment, you will need to create your own JSON document to store information about yourself and the grades you've received from week 1 to week 4 and the week 6 quiz.  That is, everything you should have received a grade for.  Then you'll need to show me you know how to navigate the JSON in that file.\n",
        "\n",
        "Different from what we've done in the past, you do not have to write any functions or include any docstrings.  Just create some JSON and write some code.\n",
        "\n",
        "---"
      ]
    },
    {
      "cell_type": "markdown",
      "metadata": {
        "id": "0iSavR-ZG0jf"
      },
      "source": [
        "## 7.1 Create a JSON file\n",
        "\n",
        "Create a JSON file that contains your name, email, year you were born, all of the grades you've received back so far, and a comment about what you thought was most challenging on each of those assignments.  This can be any structure you choose, but make sure it uses a dictionary and a list, and has at least two levels of hierarchy.  That is, it can't just be one big long list."
      ]
    },
    {
      "cell_type": "markdown",
      "metadata": {
        "id": "n_s12g-ZG0jg"
      },
      "source": [
        "First, explain how your data structure is going to look..."
      ]
    },
    {
      "cell_type": "markdown",
      "metadata": {
        "id": "kaG4cHNKG0jg"
      },
      "source": [
        "The personal information and grades components are the two main components of the root dictionary that makes up the JSON file's data structure. With the name, email address, and birth year as values, the personal_info key will direct users to a dictionary. An alphabetical dictionary representing each week's grade and feedback will be included in the grades key. Every submission will have week, grade, and remark keys, which will make it easy to see what grades were earned and what difficulties were encountered. Keeping personal and academic information structured and managed, this hierarchical structure guarantees easy access."
      ]
    },
    {
      "cell_type": "markdown",
      "metadata": {
        "id": "-rG89NikG0jg"
      },
      "source": [
        "The personal information and grades components are the two main components of the root dictionary that makes up the JSON file's data structure. With the name, email address, and birth year as values, the personal_info key will direct users to a dictionary. An alphabetical dictionary representing each week's grade and feedback will be included in the grades key. Every submission will have week, grade, and remark keys, which will make it easy to see what grades were earned and what difficulties were encountered. Keeping personal and academic information structured and managed, this hierarchical structure guarantees easy access."
      ]
    },
    {
      "cell_type": "code",
      "execution_count": 7,
      "metadata": {
        "id": "bBwexSoAG0jg"
      },
      "outputs": [],
      "source": [
        "hds5210 =  \"\"\"\n",
        "{\n",
        "  \"name\": \"Latha Reddy Battula\",\n",
        "  \"email\": \"lathareddy.battula@slu.edu\",\n",
        "  \"year_born\": 2002,\n",
        "  ---- grades I got in each week assignment ----\n",
        "  \"assignments\": [\n",
        "    {\n",
        "      \"week-1\": \"Setup github & add collabrator\",\n",
        "      \"grade\": \"10\",\n",
        "      \"comment\": \"I added Adam as a collabrator for my repository.\"\n",
        "    },\n",
        "    {\n",
        "      \"week-2\": \"Setup github & add collabrator\",\n",
        "      \"grade\": \"8\",\n",
        "      \"comment\": \"As I was new to coding I made a poor choices in terms of variables/functions names,did't documented well and did't performed asssertions,\n",
        "       So I got low grage.\"\n",
        "    },\n",
        "    {\n",
        "      \"week-3\": \"Programming Project 2\",\n",
        "      \"grade\": \"08\",\n",
        "      \"comment\": \"Got trouble while dealing with LACE score but I overcame it.\"\n",
        "    },\n",
        "    {\n",
        "      \"week-4\": \"Programming Project 3\",\n",
        "      \"grade\": \"12\",\n",
        "      \"comment\": \"I was confused with nested lists,later I understood from the Mckenny 3.1.\"\n",
        "    },\n",
        "  ]\n",
        "}\n",
        "\"\"\""
      ]
    },
    {
      "cell_type": "markdown",
      "metadata": {
        "id": "tWETitjGG0jh"
      },
      "source": [
        "## 7.2 Do something with your JSON\n",
        "\n",
        "Now use Python code to do something with the Json above.  Turn it into English text, but make sure that you use at least one loop to access some dict or list content of your JSON.  Below, I've provided some basic code to read in the string above as JSON and return a Python object.  Your job is to work with that data structure and print out the important information like your name, email, and how you did on each assignment."
      ]
    },
    {
      "cell_type": "code",
      "execution_count": 6,
      "metadata": {
        "id": "KV9fHxaeG0jh",
        "outputId": "a59d340b-8ee0-4b83-b8de-9434ee89f21a",
        "colab": {
          "base_uri": "https://localhost:8080/"
        }
      },
      "outputs": [
        {
          "output_type": "stream",
          "name": "stdout",
          "text": [
            "Name: Latha Reddy Battula\n",
            "Email: lathareddy.battula@slu.edu\n",
            "Week Setup github & add collabrator: Grade = 1, Comment: First week was easy as it is only adding the collaborator.\n",
            "Week Setup github & add collabrator: Grade = 8, Comment: I made poor choice in defining functions, variables.\n",
            "Week Programming Project 2: Grade = 8, Comment: At first, I didn't understand the process. Later, I worked on it and completed the assignment.\n",
            "Week Programming Project 3: Grade = 12, Comment: I was a little bit confused with nested lists; later I watched some videos and started working on it.\n"
          ]
        }
      ],
      "source": [
        "import json\n",
        "\n",
        "# Sample JSON data (as if it has been loaded from an external source)\n",
        "data = {\n",
        "    \"personal_info\": {\n",
        "        \"name\": \"Latha Reddy Battula\",\n",
        "        \"email\": \"lathareddy.battula@slu.edu\",\n",
        "        \"birth_year\": \"2002\"\n",
        "    },\n",
        "    \"grades\": [\n",
        "        {\n",
        "            \"week\": \"Setup github & add collabrator\",\n",
        "            \"grade\": \"1\",\n",
        "            \"comment\": \"First week was easy as it is only adding the collaborator.\"\n",
        "        },\n",
        "        {\n",
        "            \"week\": \"Setup github & add collabrator\",\n",
        "            \"grade\": \"8\",\n",
        "            \"comment\": \"I made poor choice in defining functions, variables.\"\n",
        "        },\n",
        "        {\n",
        "            \"week\": \"Programming Project 2\",\n",
        "            \"grade\": \"8\",\n",
        "            \"comment\": \"At first, I didn't understand the process. Later, I worked on it and completed the assignment.\"\n",
        "        },\n",
        "        {\n",
        "            \"week\": \"Programming Project 3\",\n",
        "            \"grade\": \"12\",\n",
        "            \"comment\": \"I was a little bit confused with nested lists; later I watched some videos and started working on it.\"\n",
        "        }\n",
        "    ]\n",
        "}\n",
        "\n",
        "# Extract personal information, print personal information, grades and comments of each week\n",
        "name = data[\"personal_info\"][\"name\"]\n",
        "email = data[\"personal_info\"][\"email\"]\n",
        "\n",
        "print(f\"Name: {name}\")\n",
        "print(f\"Email: {email}\")\n",
        "\n",
        "for grade_info in data[\"grades\"]:\n",
        "    week = grade_info[\"week\"]\n",
        "    grade = grade_info[\"grade\"]\n",
        "    comment = grade_info[\"comment\"]\n",
        "    print(f\"Week {week}: Grade = {grade}, Comment: {comment}\")"
      ]
    },
    {
      "cell_type": "markdown",
      "metadata": {
        "id": "w1LyByAJG0jh"
      },
      "source": [
        "## 7.3 Reflect\n",
        "\n",
        "Write a paragraph on any reflections you have. Was this hard? Easy?  What parts were most challenging or easiest? What did you like or dislike about the assignment?  Share whatever important thoughts you have abou this assignment."
      ]
    },
    {
      "cell_type": "markdown",
      "metadata": {
        "id": "RLneNJzlG0jh"
      },
      "source": [
        "This project served as a useful practice for handling JSON data and transforming it into a format that is easier to understand for humans using Python. Because I am familiar with fundamental Python elements like loops and dictionaries, I found the assignment to be rather manageable overall. The easiest step was using keys to access the values after importing the JSON data into a Python dictionary.\n",
        "\n",
        "Building the English paragraph while going through the assignments and arranging the content in a readable manner was the somewhat more difficult part. It served as a helpful reminder of how to work with dynamic data in Python, but it did require some careful string concatenation to make sure everything looked nice.\n",
        "\n",
        "I found the task to be enjoyable because it emphasized the significance of structured data and how helpful JSON can be for Python information exchange and manipulation. The freedom to create my own data structure and apply programs to manipulate it pleased me. Typing out the comprehensive assignment information was, if anything, the most tiresome part, but that's a little gripe.\n",
        "\n",
        "To sum up, I thought this exercise was an excellent way to combine Python programming with JSON handling, and it was a really simple and useful task."
      ]
    },
    {
      "cell_type": "markdown",
      "metadata": {
        "id": "3Ary972LG0jh"
      },
      "source": [
        "---\n",
        "\n",
        "# Example\n",
        "\n",
        "Below is an example of something similar, but this uses information my and my friend's kids instead of grades."
      ]
    },
    {
      "cell_type": "code",
      "execution_count": 8,
      "metadata": {
        "id": "SQodV2gCG0ji",
        "outputId": "af8b38cc-7a0c-4c44-a14b-ee88265bc834",
        "colab": {
          "base_uri": "https://localhost:8080/"
        }
      },
      "outputs": [
        {
          "output_type": "stream",
          "name": "stdout",
          "text": [
            "Hi, my name is Paul. I've got 3 kids. Their names are Ellie, Ada, Teddy.\n",
            "My friend, Anny has 1 kids. That's fewer than me. Their names are 1\n"
          ]
        }
      ],
      "source": [
        "hds5210 = \"\"\"\n",
        "{\n",
        "    \"me\": {\n",
        "        \"name\": \"Paul\",\n",
        "        \"kids\": [\"Ellie\", \"Ada\", \"Teddy\"]\n",
        "    },\n",
        "    \"friend\": {\n",
        "        \"name\": \"Anny\",\n",
        "        \"kids\": [\"Abby\"]\n",
        "    }\n",
        "}\n",
        "\"\"\"\n",
        "\n",
        "import json\n",
        "\n",
        "info = json.loads(hds5210)\n",
        "\n",
        "me = info[\"me\"][\"name\"]\n",
        "my_kids_count = len(info[\"me\"][\"kids\"])\n",
        "kids_list = \", \".join(info[\"me\"][\"kids\"])\n",
        "friend = info[\"friend\"][\"name\"]\n",
        "friends_kid_count = len(info[\"friend\"][\"kids\"])\n",
        "friend_kids = \", \".join(info[\"friend\"][\"kids\"])\n",
        "compare = \"more\" if friends_kid_count > my_kids_count else \"fewer\"\n",
        "\n",
        "print(f\"Hi, my name is {me}. I've got {my_kids_count} kids. Their names are {kids_list}.\")\n",
        "print(f\"My friend, {friend} has {friends_kid_count} kids. That's {compare} than me. Their names are {friends_kid_count}\")"
      ]
    }
  ],
  "metadata": {
    "kernelspec": {
      "display_name": "Python 3",
      "language": "python",
      "name": "python3"
    },
    "language_info": {
      "codemirror_mode": {
        "name": "ipython",
        "version": 3
      },
      "file_extension": ".py",
      "mimetype": "text/x-python",
      "name": "python",
      "nbconvert_exporter": "python",
      "pygments_lexer": "ipython3",
      "version": "3.9.16"
    },
    "colab": {
      "provenance": [],
      "include_colab_link": true
    }
  },
  "nbformat": 4,
  "nbformat_minor": 0
}