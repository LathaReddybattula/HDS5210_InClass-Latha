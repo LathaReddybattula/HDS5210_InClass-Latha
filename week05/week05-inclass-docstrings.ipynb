{
  "cells": [
    {
      "cell_type": "markdown",
      "metadata": {
        "id": "view-in-github",
        "colab_type": "text"
      },
      "source": [
        "<a href=\"https://colab.research.google.com/github/LathaReddybattula/HDS5210_InClass-Latha/blob/master/week05/week05-inclass-docstrings.ipynb\" target=\"_parent\"><img src=\"https://colab.research.google.com/assets/colab-badge.svg\" alt=\"Open In Colab\"/></a>"
      ]
    },
    {
      "cell_type": "code",
      "execution_count": 5,
      "metadata": {
        "id": "o5vadQXKrjbM"
      },
      "outputs": [],
      "source": [
        "import doctest"
      ]
    },
    {
      "cell_type": "markdown",
      "metadata": {
        "id": "VmnzaDIVrjbN"
      },
      "source": [
        "### DocStrings\n",
        "1. Write a DocString to describe the functionality of this function\n",
        "2. Write a set of tests that exercise the function.\n",
        "3. Call doctest and fix any errors"
      ]
    },
    {
      "cell_type": "code",
      "execution_count": 17,
      "metadata": {
        "id": "ZY_LPUHErjbO"
      },
      "outputs": [],
      "source": [
        "def LACE(length_of_stay, acute_flag, charlson, ed_visits):\n",
        "    \"\"\"(int, bool, int,  int) -> int\n",
        "    Fancy description of the function including how we translate variables to score values\n",
        "    LOS|Score\n",
        "    3<=|LOS\n",
        "\n",
        ">>> LACE(0, false, 0, 0)\n",
        "0\n",
        ">>> LACE(0, TRUE, 0)\n",
        "3\n",
        "\"\"\"\n",
        "\n",
        "#Calculate the LACE score\n",
        "    if length_of_stay <= 3 :\n",
        "        stay_score = length_of_stay\n",
        "    elif length_of_stay >=4 and length_of_stay <= 6 :\n",
        "        stay_score = 4\n",
        "    elif length_of_stay >=7 and length_of_stay <= 13 :\n",
        "        stay_score = 5\n",
        "    else:\n",
        "        stay_score = 7\n",
        "\n",
        "    acute_score = 0\n",
        "    if acute_flag :\n",
        "        acute_score = 3\n",
        "\n",
        "    if charlson >= 4 :\n",
        "        charlson_score = 5\n",
        "    else :\n",
        "        charlson_score = charlson\n",
        "\n",
        "    if ed_visits >= 4 :\n",
        "        visit_score = 4\n",
        "    else :\n",
        "        visit_score = ed_visits\n",
        "\n",
        "    score = stay_score + acute_score + charlson_score + visit_score\n",
        "\n",
        "    return score"
      ]
    },
    {
      "cell_type": "code",
      "execution_count": 18,
      "metadata": {
        "id": "73RXG6DLrjbO",
        "outputId": "2417bf71-54ac-45d0-c744-03c818b78327",
        "colab": {
          "base_uri": "https://localhost:8080/"
        }
      },
      "outputs": [
        {
          "output_type": "stream",
          "name": "stderr",
          "text": [
            "\n",
            "PYDEV DEBUGGER WARNING:\n",
            "sys.settrace() should not be used when the debugger is being used.\n",
            "This may cause the debugger to stop working correctly.\n",
            "If this is needed, please check: \n",
            "http://pydev.blogspot.com/2007/06/why-cant-pydev-debugger-work-with.html\n",
            "to see how to restore the debug tracing back correctly.\n",
            "Call Location:\n",
            "  File \"/usr/lib/python3.10/doctest.py\", line 1501, in run\n",
            "    sys.settrace(save_trace)\n",
            "\n"
          ]
        },
        {
          "output_type": "stream",
          "name": "stdout",
          "text": [
            "Finding tests in NoName\n",
            "Trying:\n",
            "    LACE(0, false, 0, 0)\n",
            "Expecting:\n",
            "    0\n",
            "**********************************************************************\n",
            "File \"__main__\", line 7, in NoName\n",
            "Failed example:\n",
            "    LACE(0, false, 0, 0)\n",
            "Exception raised:\n",
            "    Traceback (most recent call last):\n",
            "      File \"/usr/lib/python3.10/doctest.py\", line 1350, in __run\n",
            "        exec(compile(example.source, filename, \"single\",\n",
            "      File \"<doctest NoName[0]>\", line 1, in <module>\n",
            "        LACE(0, false, 0, 0)\n",
            "    NameError: name 'false' is not defined\n",
            "Trying:\n",
            "    LACE(0, TRUE, 0)\n",
            "Expecting:\n",
            "    3\n",
            "**********************************************************************\n",
            "File \"__main__\", line 9, in NoName\n",
            "Failed example:\n",
            "    LACE(0, TRUE, 0)\n",
            "Exception raised:\n",
            "    Traceback (most recent call last):\n",
            "      File \"/usr/lib/python3.10/doctest.py\", line 1350, in __run\n",
            "        exec(compile(example.source, filename, \"single\",\n",
            "      File \"<doctest NoName[1]>\", line 1, in <module>\n",
            "        LACE(0, TRUE, 0)\n",
            "    NameError: name 'TRUE' is not defined\n"
          ]
        }
      ],
      "source": [
        "doctest.run_docstring_examples(LACE, globals(), verbose=True)"
      ]
    }
  ],
  "metadata": {
    "language_info": {
      "name": "python"
    },
    "colab": {
      "provenance": [],
      "include_colab_link": true
    },
    "kernelspec": {
      "name": "python3",
      "display_name": "Python 3"
    }
  },
  "nbformat": 4,
  "nbformat_minor": 0
}