{
  "cells": [
    {
      "cell_type": "code",
      "execution_count": 1,
      "metadata": {
        "id": "zMB46Z_MmSX6"
      },
      "outputs": [],
      "source": [
        "import doctest"
      ]
    },
    {
      "cell_type": "markdown",
      "metadata": {
        "id": "26fJpaT5mSX7"
      },
      "source": [
        "### DocStrings\n",
        "1. Write a DocString to describe the functionality of this function\n",
        "2. Write a set of tests that exercise the function.\n",
        "3. Call doctest and fix any errors"
      ]
    },
    {
      "cell_type": "code",
      "execution_count": 2,
      "metadata": {
        "id": "bb3bld7gmSX7"
      },
      "outputs": [],
      "source": [
        "def LACE(length_of_stay, acute_flag, charlson, ed_visits):\n",
        "\n",
        "    if length_of_stay <= 3 :\n",
        "        stay_score = length_of_stay\n",
        "    elif length_of_stay >=4 and length_of_stay <= 6 :\n",
        "        stay_score = 4\n",
        "    elif length_of_stay >=7 and length_of_stay <= 13 :\n",
        "        stay_score = 5\n",
        "    else:\n",
        "        stay_score = 7\n",
        "\n",
        "    acute_score = 0\n",
        "    if acute_flag :\n",
        "        acute_score = 3\n",
        "\n",
        "    if charlson >= 4 :\n",
        "        charlson_score = 5\n",
        "    else :\n",
        "        charlson_score = charlson\n",
        "\n",
        "    if ed_visits >= 4 :\n",
        "        visit_score = 4\n",
        "    else :\n",
        "        visit_score = ed_visits\n",
        "\n",
        "    score = stay_score + acute_score + charlson_score + visit_score\n",
        "\n",
        "    return score"
      ]
    },
    {
      "cell_type": "code",
      "execution_count": 3,
      "metadata": {
        "id": "vsTYVwgnmSX8",
        "outputId": "102bf1a6-3b93-4012-ff10-9732c1fe52f1",
        "colab": {
          "base_uri": "https://localhost:8080/"
        }
      },
      "outputs": [
        {
          "output_type": "stream",
          "name": "stdout",
          "text": [
            "Finding tests in NoName\n"
          ]
        }
      ],
      "source": [
        "doctest.run_docstring_examples(LACE, globals(), verbose=True)"
      ]
    }
  ],
  "metadata": {
    "language_info": {
      "name": "python"
    },
    "colab": {
      "provenance": [],
      "toc_visible": true
    },
    "kernelspec": {
      "name": "python3",
      "display_name": "Python 3"
    }
  },
  "nbformat": 4,
  "nbformat_minor": 0
}